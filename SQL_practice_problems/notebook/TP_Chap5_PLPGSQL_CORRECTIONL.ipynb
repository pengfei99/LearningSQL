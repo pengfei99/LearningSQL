{
 "cells": [
  {
   "cell_type": "markdown",
   "metadata": {},
   "source": [
    "## <span style=\"color:blue\">PL/SQL </span> \n",
    "\n",
    "In this section, we introduce PL/pgSQL on postgreSQL. For Oracle developpers, the syntax is very similar.\n",
    "\n",
    "Before begining this notebook, make sure to etablish a connexion before going on :"
   ]
  },
  {
   "cell_type": "code",
   "execution_count": 27,
   "metadata": {},
   "outputs": [],
   "source": [
    "-- connection: host='localhost' dbname='ds2' user='ds2' "
   ]
  },
  {
   "cell_type": "markdown",
   "metadata": {},
   "source": [
    "\n",
    " ## <span style=\"color:blue\">Let's start </span>\n",
    "\n",
    "A PL/SQL program is consisted of 4 sections :\n",
    "\n",
    "DECLARE (optional)\n",
    "Variable definition \n",
    "\n",
    "BEGIN (mandatory)\n",
    "Implementing the business logic and have to contain at least one declaration SQL or PL/SQL\n",
    "\n",
    "EXCEPTION (optional)\n",
    "Exception management \n",
    "\n",
    "END; ( mandatory ) \n",
    "\n",
    "\n",
    "\n",
    "\n",
    "\n"
   ]
  },
  {
   "cell_type": "markdown",
   "metadata": {},
   "source": [
    "## <span style=\"color:blue\">Enabling Output of a PL/SQL Block</span> "
   ]
  },
  {
   "cell_type": "markdown",
   "metadata": {},
   "source": [
    "To enable output in postgreSQL, execute the following command before running the PL/SQL block\n"
   ]
  },
  {
   "cell_type": "code",
   "execution_count": 28,
   "metadata": {},
   "outputs": [],
   "source": [
    "set client_min_messages = LOG;"
   ]
  },
  {
   "cell_type": "markdown",
   "metadata": {},
   "source": [
    "You can filter the trace level to DEBUG5, DEBUG4, DEBUG3, DEBUG2, DEBUG1, LOG, NOTICE, WARNING, ERROR, FATAL, and PANIC.\n",
    "\n",
    "Ready for your first procedure :"
   ]
  },
  {
   "cell_type": "code",
   "execution_count": 29,
   "metadata": {},
   "outputs": [
    {
     "name": "stdout",
     "output_type": "stream",
     "text": [
      "LOG:  Hello\n"
     ]
    }
   ],
   "source": [
    "DO $$\n",
    "BEGIN\n",
    "raise log 'Hello';\n",
    "END;\n",
    "$$"
   ]
  },
  {
   "cell_type": "markdown",
   "metadata": {},
   "source": [
    "## <span style=\"color:blue\">Your first Program</span>"
   ]
  },
  {
   "cell_type": "markdown",
   "metadata": {},
   "source": [
    "PL/SQL is a language which may be used in some specifics database objects : \n",
    "* Triggers\n",
    "* Stored procedures\n",
    "* Functions\n",
    "* Anonymous block\n",
    "\n",
    "In PL/SQL, you can run a PL/SQL code without creating a database object like stored procedure or a trigger, it's what we call an Anonymous block. In postgres, to run an anonymous block you can do it with the DO command :\n"
   ]
  },
  {
   "cell_type": "code",
   "execution_count": 30,
   "metadata": {},
   "outputs": [
    {
     "name": "stdout",
     "output_type": "stream",
     "text": [
      "NOTICE:  Hello\n"
     ]
    }
   ],
   "source": [
    "\n",
    "DO $$                      -- DO (mandatory) indicates to Postgres it's an anonymous block.\n",
    "<< label >>                -- you can define a label we will see the interest  later\n",
    "DECLARE                    -- Optional section for declaring variables\n",
    "BEGIN                     -- computing block (mandatory) : have to contain at least one instruction\n",
    "   Raise notice 'Hello';   -- Print Hello\n",
    "END                        -- computing block end (mandatory)\n",
    "$$    "
   ]
  },
  {
   "cell_type": "markdown",
   "metadata": {},
   "source": [
    "Note that the double dollar ($$) is a substitution of a single quote (‘).\n",
    "\n",
    "Bravo, you ran your first PL/SQL program.\n",
    "\n",
    "Here, we create the same program with via a function :"
   ]
  },
  {
   "cell_type": "code",
   "execution_count": 31,
   "metadata": {},
   "outputs": [],
   "source": [
    "DROP function if exists f_hello( text);\n",
    "\n",
    "CREATE or replace FUNCTION f_hello(v_myTxt text) RETURNS text \n",
    "AS $BODY$\n",
    "DECLARE\n",
    "  v_hello text ='Hello';\n",
    "BEGIN\n",
    "  RETURN v_hello||' '||v_myTxt;\n",
    "END\n",
    "$BODY$\n",
    "LANGUAGE plpgsql; \n"
   ]
  },
  {
   "cell_type": "markdown",
   "metadata": {},
   "source": [
    "Now, we can call our function :"
   ]
  },
  {
   "cell_type": "code",
   "execution_count": 32,
   "metadata": {},
   "outputs": [
    {
     "name": "stdout",
     "output_type": "stream",
     "text": [
      "1 row(s) returned.\n"
     ]
    },
    {
     "data": {
      "text/html": [
       "<table>\n",
       "<thead>\n",
       "<tr><th>f_hello  </th></tr>\n",
       "</thead>\n",
       "<tbody>\n",
       "<tr><td>Hello Guy</td></tr>\n",
       "</tbody>\n",
       "</table>"
      ],
      "text/latex": [
       "\\begin{tabular}{l}\n",
       "\\toprule\n",
       " f\\_hello   \\\\\n",
       "\\midrule\n",
       " Hello Guy \\\\\n",
       "\\bottomrule\n",
       "\\end{tabular}"
      ],
      "text/plain": [
       "f_hello\n",
       "---------\n",
       "Hello Guy"
      ]
     },
     "metadata": {},
     "output_type": "display_data"
    }
   ],
   "source": [
    "select f_hello('Guy');"
   ]
  },
  {
   "cell_type": "markdown",
   "metadata": {},
   "source": [
    "We can do the same thing through a stored procedure :"
   ]
  },
  {
   "cell_type": "code",
   "execution_count": 33,
   "metadata": {},
   "outputs": [],
   "source": [
    "DROP procedure if exists p_hello( varchar(50));\n",
    "\n",
    "CREATE PROCEDURE p_hello(v_myTxt varchar(50)) \n",
    "LANGUAGE plpgsql \n",
    "AS $BODY$ \n",
    "DECLARE\n",
    "   v_hello text ='Hello';\n",
    "BEGIN\n",
    "   Raise notice '% : % ', v_hello, v_myTxt;\n",
    "END\n",
    "$BODY$;"
   ]
  },
  {
   "cell_type": "code",
   "execution_count": 34,
   "metadata": {},
   "outputs": [
    {
     "name": "stdout",
     "output_type": "stream",
     "text": [
      "NOTICE:  Hello : Guy \n"
     ]
    }
   ],
   "source": [
    "call p_hello('Guy');\n"
   ]
  },
  {
   "cell_type": "markdown",
   "metadata": {},
   "source": [
    "Now you are ready to write your first PL/SQL code."
   ]
  },
  {
   "cell_type": "markdown",
   "metadata": {},
   "source": [
    "# <span style=\"color:blue\">Scalar variables</span> "
   ]
  },
  {
   "cell_type": "markdown",
   "metadata": {},
   "source": [
    "If you are famillar with programming it's very similar, you declare the name, the datatype and evantually the default value."
   ]
  },
  {
   "cell_type": "raw",
   "metadata": {},
   "source": [
    "identifier [CONSTANT] datatype [NOT NULL] [:= | DEFAULT expr]; "
   ]
  },
  {
   "cell_type": "markdown",
   "metadata": {},
   "source": [
    "The datatype list supported in postgres is available here :\n",
    "https://www.postgresql.org/docs/11/datatype.html\n",
    "\n",
    "Here is a simple code displaying a variable :"
   ]
  },
  {
   "cell_type": "code",
   "execution_count": 35,
   "metadata": {},
   "outputs": [
    {
     "name": "stdout",
     "output_type": "stream",
     "text": [
      "INFO:  var costype : Galaxy\n"
     ]
    }
   ],
   "source": [
    "DO $$                      \n",
    "DECLARE\n",
    "costype varchar(50) default 'Galaxy';\n",
    "BEGIN                     \n",
    "   Raise info 'var costype : %',costype; \n",
    "END  \n",
    "$$ \n",
    "LANGUAGE plpgsql;"
   ]
  },
  {
   "cell_type": "markdown",
   "metadata": {},
   "source": [
    "You can define the type of a variable from : \n",
    "* an existing colum  with the syntax %TYPE\n",
    "* an existing local variable "
   ]
  },
  {
   "cell_type": "code",
   "execution_count": 36,
   "metadata": {},
   "outputs": [
    {
     "name": "stdout",
     "output_type": "stream",
     "text": [
      "INFO:  v_myTitle : Coucou\n",
      "INFO:  v_copyMyIntType : 6\n"
     ]
    }
   ],
   "source": [
    "DO $$                      \n",
    "DECLARE\n",
    "v_myTitle products.title%TYPE;\n",
    "v_copyMyTitleType v_myTitle%TYPE;\n",
    "BEGIN  \n",
    "   v_myTitle := 'Coucou';\n",
    "   Raise info 'v_myTitle : %',v_myTitle; \n",
    "   v_copyMyTitleType := length(v_myTitle)::text; -- we need to cast data from int to text\n",
    "   Raise info 'v_copyMyIntType : %',v_copyMyTitleType; \n",
    "END  \n",
    "$$ \n",
    "LANGUAGE plpgsql;"
   ]
  },
  {
   "cell_type": "markdown",
   "metadata": {},
   "source": [
    "# <span style=\"color:blue\">Composite variables</span> "
   ]
  },
  {
   "cell_type": "markdown",
   "metadata": {},
   "source": [
    "Now, let's play with composite variables.<br/>\n",
    "When you need to collect a row with a set of attribute you can do it like this :"
   ]
  },
  {
   "cell_type": "code",
   "execution_count": 37,
   "metadata": {},
   "outputs": [
    {
     "name": "stdout",
     "output_type": "stream",
     "text": [
      "INFO:  Variable with ROW TYPE : Id category : 6 - Category Name : Documentary \n",
      "INFO:  Variable with RECORD : Id category : 8 - Category Name : Family \n"
     ]
    }
   ],
   "source": [
    "DO $$                      \n",
    "DECLARE\n",
    "rt_myrow categories%ROWTYPE;  \n",
    "rec_myrow RECORD;  \n",
    "BEGIN                     \n",
    "   SELECT * into strict rt_myrow FROM categories order by category LIMIT 1 OFFSET 5 ; --STRICT raise an error if multi rows\n",
    "   Raise info 'Variable with ROW TYPE : Id category : % - Category Name : % ',rt_myrow.category,rt_myrow.categoryname;                                                                                                               \n",
    "   SELECT * into strict rec_myrow FROM categories order by category LIMIT 1 OFFSET 7 ; --STRICT raise an error if multi rows\n",
    "   Raise info 'Variable with RECORD : Id category : % - Category Name : % ',rec_myrow.category,rec_myrow.categoryname;                                                                                                               \n",
    "\n",
    "END                        \n",
    "$$\n"
   ]
  },
  {
   "cell_type": "markdown",
   "metadata": {},
   "source": [
    "Are you ok with variables ?<br/>\n",
    "From the preceding example, could you write an anonymous block to display the 11th row of the category table and get back the result into a composite variable with your own type ?<br/>\n"
   ]
  },
  {
   "cell_type": "code",
   "execution_count": 41,
   "metadata": {},
   "outputs": [
    {
     "name": "stdout",
     "output_type": "stream",
     "text": [
      "INFO:  Id category : 11 - Category Name : Horror \n"
     ]
    }
   ],
   "source": [
    "DROP TYPE if exists t_myType;\n",
    "CREATE TYPE t_myType AS (category int, categoryname text) ;\n",
    "                                                            \n",
    "DO $$                      \n",
    "DECLARE\n",
    "myrow_type t_myType;                                                         \n",
    "BEGIN                     \n",
    "   SELECT category, categoryname FROM categories order by category limit 1 OFFSET 10  into strict myrow_type ;\n",
    "   Raise info 'Id category : % - Category Name : % ',myrow_type.category,myrow_type.categoryname; \n",
    "                                                                                                                          \n",
    "END                        \n",
    "$$"
   ]
  },
  {
   "cell_type": "markdown",
   "metadata": {},
   "source": [
    "Now you are ready to developp in PL/SQL ;-)."
   ]
  },
  {
   "cell_type": "markdown",
   "metadata": {},
   "source": [
    " ### <span style=\"color:red\">EXERCISES </span>"
   ]
  },
  {
   "cell_type": "markdown",
   "metadata": {},
   "source": [
    " ### <span style=\"color:blue\">EX - 1 </span>\n",
    " \n",
    " Create an anonymous block computing the hypotenuse of a right-angled triangle where the opposite side sizes 5.5 and the adjacent side size 10.<br/>\n",
    "\n",
    "All mathematique operators are <a href=\"https://docs.postgresql.fr/11/functions-math.html\">here</a>"
   ]
  },
  {
   "cell_type": "code",
   "execution_count": 42,
   "metadata": {},
   "outputs": [
    {
     "name": "stdout",
     "output_type": "stream",
     "text": [
      "INFO:  hypotenuse 11.4127122105133\n"
     ]
    }
   ],
   "source": [
    "DO $$                      \n",
    "DECLARE\n",
    "a float4 default 5.5;\n",
    "b a%TYPE = 10;\n",
    "BEGIN                     \n",
    "   Raise info 'hypotenuse %',|/(a^2 + b::float4^2); \n",
    "END                        \n",
    "$$\n",
    "LANGUAGE plpgsql;"
   ]
  },
  {
   "cell_type": "markdown",
   "metadata": {},
   "source": [
    " ### <span style=\"color:blue\">EX - 2 </span>\n",
    " \n",
    " Transform the anonymous block to a function \"hypo\" accepting 2 arguments a and b."
   ]
  },
  {
   "cell_type": "code",
   "execution_count": 43,
   "metadata": {},
   "outputs": [],
   "source": [
    "\n",
    "CREATE or replace FUNCTION f_hypo(a float4, b float4) RETURNS float4 \n",
    "AS $$\n",
    "BEGIN                     \n",
    "   return |/(a^2 + b::float4^2);\n",
    "END                        \n",
    "$$ \n",
    "LANGUAGE plpgsql;"
   ]
  },
  {
   "cell_type": "code",
   "execution_count": 44,
   "metadata": {},
   "outputs": [
    {
     "name": "stdout",
     "output_type": "stream",
     "text": [
      "1 row(s) returned.\n"
     ]
    },
    {
     "data": {
      "text/html": [
       "<table>\n",
       "<thead>\n",
       "<tr><th style=\"text-align: right;\">  f_hypo</th></tr>\n",
       "</thead>\n",
       "<tbody>\n",
       "<tr><td style=\"text-align: right;\"> 56.5085</td></tr>\n",
       "</tbody>\n",
       "</table>"
      ],
      "text/latex": [
       "\\begin{tabular}{r}\n",
       "\\toprule\n",
       "   f\\_hypo \\\\\n",
       "\\midrule\n",
       "  56.5085 \\\\\n",
       "\\bottomrule\n",
       "\\end{tabular}"
      ],
      "text/plain": [
       "  f_hypo\n",
       "--------\n",
       " 56.5085"
      ]
     },
     "metadata": {},
     "output_type": "display_data"
    }
   ],
   "source": [
    "select f_hypo(3.5,56.4);"
   ]
  },
  {
   "cell_type": "markdown",
   "metadata": {},
   "source": [
    " ### <span style=\"color:blue\">EX - 3 </span>"
   ]
  },
  {
   "cell_type": "markdown",
   "metadata": {},
   "source": [
    "Guess the output of this anonymous procedure :"
   ]
  },
  {
   "cell_type": "code",
   "execution_count": 45,
   "metadata": {},
   "outputs": [
    {
     "name": "stdout",
     "output_type": "stream",
     "text": [
      "INFO:  bloc1 -> level = level1\n",
      "INFO:  bloc2_1 -> level = level2_1 \n",
      "INFO:  bloc2_1 -> level1.level = level1 \n",
      "INFO:  bloc3_1_1 -> level = level3_1_1 \n",
      "INFO:  bloc3_1_1 -> level1.level = level1 \n",
      "INFO:  bloc3_1_1 -> level2_1.level = level2_1 \n",
      "INFO:  Erreur id  P0001 \n",
      "INFO:  Erreur detected  test \n",
      "INFO:  bloc2_2 -> level = level2_2 \n",
      "INFO:  bloc2_2 -> level1.level = level1 \n"
     ]
    }
   ],
   "source": [
    "DO $$                      \n",
    "<< level1 >>\n",
    "DECLARE\n",
    "v_level otypedef.otype_descr%TYPE = 'level1';\n",
    "BEGIN \n",
    "   Raise info 'bloc1 -> level = %' ,v_level;  \n",
    "   << level2_1 >>\n",
    "   DECLARE\n",
    "   v_level otypedef.otype_descr%TYPE = 'level2_1';\n",
    "   BEGIN\n",
    "       Raise info 'bloc2_1 -> level = % ',v_level; \n",
    "       Raise info 'bloc2_1 -> level1.level = % ',level1.v_level; \n",
    "       << level3_1 >>\n",
    "       DECLARE\n",
    "       v_level otypedef.otype_descr%TYPE = 'level3_1_1';\n",
    "       BEGIN    \n",
    "           Raise info 'bloc3_1_1 -> level = % ',v_level; \n",
    "           Raise info 'bloc3_1_1 -> level1.level = % ',level1.v_level;     \n",
    "           Raise info 'bloc3_1_1 -> level2_1.level = % ',level2_1.v_level;  \n",
    "           raise exception 'test';\n",
    "        END level3_1;\n",
    "        EXCEPTION\n",
    "            WHEN others then\n",
    "            Raise info 'Erreur id  % ',SQLSTATE; \n",
    "            Raise info 'Erreur detected  % ',SQLERRM; \n",
    "   END level2_1;\n",
    "   << level2_2 >>\n",
    "   DECLARE\n",
    "   v_level otypedef.otype_descr%TYPE = 'level2_2';\n",
    "   BEGIN\n",
    "       Raise info 'bloc2_2 -> level = % ',v_level; \n",
    "       Raise info 'bloc2_2 -> level1.level = % ',level1.v_level; \n",
    "   END level2_2;\n",
    "END level1 ;                     \n",
    "$$ \n"
   ]
  },
  {
   "cell_type": "markdown",
   "metadata": {},
   "source": [
    "  ### <span style=\"color:blue\">EX - 4</span>"
   ]
  },
  {
   "cell_type": "markdown",
   "metadata": {},
   "source": [
    "In this exercice, you will create a course table as defined below :"
   ]
  },
  {
   "cell_type": "code",
   "execution_count": 53,
   "metadata": {},
   "outputs": [
    {
     "name": "stdout",
     "output_type": "stream",
     "text": [
      "4 row(s) returned.\n"
     ]
    },
    {
     "data": {
      "text/html": [
       "<table>\n",
       "<thead>\n",
       "<tr><th>idcourse  </th><th>room         </th><th>teacher  </th><th style=\"text-align: right;\">  teacher_phone</th></tr>\n",
       "</thead>\n",
       "<tbody>\n",
       "<tr><td>CS101     </td><td>Hall 20      </td><td>George   </td><td style=\"text-align: right;\">     0651482192</td></tr>\n",
       "<tr><td>CS154     </td><td>Auditorium 01</td><td>Atkins   </td><td style=\"text-align: right;\">     0651927291</td></tr>\n",
       "<tr><td>CS152     </td><td>Hall 21      </td><td>Atkins   </td><td style=\"text-align: right;\">     0651927291</td></tr>\n",
       "<tr><td>CS102     </td><td>Hall 21      </td><td>George   </td><td style=\"text-align: right;\">     0651482192</td></tr>\n",
       "</tbody>\n",
       "</table>"
      ],
      "text/latex": [
       "\\begin{tabular}{lllr}\n",
       "\\toprule\n",
       " idcourse   & room          & teacher   &   teacher\\_phone \\\\\n",
       "\\midrule\n",
       " CS101      & Hall 20       & George    &      0651482192 \\\\\n",
       " CS154      & Auditorium 01 & Atkins    &      0651927291 \\\\\n",
       " CS152      & Hall 21       & Atkins    &      0651927291 \\\\\n",
       " CS102      & Hall 21       & George    &      0651482192 \\\\\n",
       "\\bottomrule\n",
       "\\end{tabular}"
      ],
      "text/plain": [
       "idcourse    room           teacher      teacher_phone\n",
       "----------  -------------  ---------  ---------------\n",
       "CS101       Hall 20        George          0651482192\n",
       "CS154       Auditorium 01  Atkins          0651927291\n",
       "CS152       Hall 21        Atkins          0651927291\n",
       "CS102       Hall 21        George          0651482192"
      ]
     },
     "metadata": {},
     "output_type": "display_data"
    }
   ],
   "source": [
    "drop table if exists courses;\n",
    "CREATE TABLE  courses\n",
    "(\n",
    "  idcourse character varying(10),\n",
    "  room character varying(100),\n",
    "  teacher character varying(50),\n",
    "  teacher_phone character varying(10)\n",
    ");\n",
    "insert into courses values ('CS101','Hall 20','George','0651482192');\n",
    "insert into courses values ('CS154','Auditorium 01','Atkins','0651927291');\n",
    "insert into courses values ('CS152','Hall 21','Atkins','0651927291');\n",
    "insert into courses values ('CS102','Hall 21','George','0651482192');\n",
    "select * from courses;"
   ]
  },
  {
   "cell_type": "markdown",
   "metadata": {},
   "source": [
    "This relation is not very well designed, could you transform it in the Boyce-Codd normal form ?<br/>\n",
    "Define and create all relations which will be used to store data in the new data model :"
   ]
  },
  {
   "cell_type": "code",
   "execution_count": 54,
   "metadata": {},
   "outputs": [
    {
     "name": "stdout",
     "output_type": "stream",
     "text": [
      "NOTICE:  la table « lecons » n'existe pas, poursuite du traitement\n"
     ]
    }
   ],
   "source": [
    "drop table if exists lecons;\n",
    "drop table if exists rooms;\n",
    "drop table if exists instructors;\n",
    "CREATE TABLE rooms\n",
    "(\n",
    "  roomname character varying(10) NOT NULL,\n",
    "  roomtype character varying(10),\n",
    "  CONSTRAINT rooms_pkey PRIMARY KEY (roomname)\n",
    ");\n",
    "\n",
    "CREATE TABLE instructors\n",
    "(\n",
    "  teacher character varying(50) NOT NULL,\n",
    "  phone character varying(10),\n",
    "  CONSTRAINT instructors_pkey PRIMARY KEY (teacher)\n",
    ");\n",
    "\n",
    "drop table if exists lecons;\n",
    "CREATE TABLE lecons\n",
    "(\n",
    "  idcourse character varying(10) NOT NULL,\n",
    "  roomname character varying(100),\n",
    "  teacher character varying(50),\n",
    "  CONSTRAINT lecons_pkey PRIMARY KEY (idcourse),\n",
    "  CONSTRAINT lecons_roomname_fkey FOREIGN KEY (roomname)\n",
    "      REFERENCES rooms (roomname) MATCH SIMPLE\n",
    "      ON UPDATE NO ACTION ON DELETE NO ACTION,\n",
    "  CONSTRAINT lecons_teacher_fkey FOREIGN KEY (teacher)\n",
    "      REFERENCES instructors (teacher) MATCH SIMPLE\n",
    "      ON UPDATE NO ACTION ON DELETE NO ACTION\n",
    ")\n"
   ]
  },
  {
   "cell_type": "markdown",
   "metadata": {},
   "source": [
    "Now you are ready to migrate courses to your new design.\n",
    "\n",
    "Create a stored procedure which will handle  data from the courses table and will translate to your new design schema.\n"
   ]
  },
  {
   "cell_type": "code",
   "execution_count": 55,
   "metadata": {},
   "outputs": [],
   "source": [
    "DROP procedure if exists courseMigration();\n",
    "create procedure courseMigration() \n",
    "AS\n",
    "$BODY$\n",
    "DECLARE\n",
    "BEGIN \n",
    "    insert into instructors  select distinct teacher, teacher_phone from courses;\n",
    "    insert into rooms select split_part(v_address, ' ',2) roomname, split_part(v_address, ' ',1) roomtype from (select distinct room  v_address from courses)t;\n",
    "    insert into lecons select distinct idcourse,split_part(room, ' ',2) roomname, teacher from courses;\n",
    "END;\n",
    "$BODY$\n",
    "LANGUAGE 'plpgsql';"
   ]
  },
  {
   "cell_type": "code",
   "execution_count": 56,
   "metadata": {},
   "outputs": [],
   "source": [
    "call courseMigration();"
   ]
  },
  {
   "cell_type": "markdown",
   "metadata": {},
   "source": [
    "Check all your data is well migrated"
   ]
  },
  {
   "cell_type": "code",
   "execution_count": 57,
   "metadata": {},
   "outputs": [
    {
     "name": "stdout",
     "output_type": "stream",
     "text": [
      "4 row(s) returned.\n"
     ]
    },
    {
     "data": {
      "text/html": [
       "<table>\n",
       "<thead>\n",
       "<tr><th>idcourse  </th><th style=\"text-align: right;\">  roomname</th><th>teacher  </th></tr>\n",
       "</thead>\n",
       "<tbody>\n",
       "<tr><td>CS152     </td><td style=\"text-align: right;\">        21</td><td>Atkins   </td></tr>\n",
       "<tr><td>CS154     </td><td style=\"text-align: right;\">        01</td><td>Atkins   </td></tr>\n",
       "<tr><td>CS101     </td><td style=\"text-align: right;\">        20</td><td>George   </td></tr>\n",
       "<tr><td>CS102     </td><td style=\"text-align: right;\">        21</td><td>George   </td></tr>\n",
       "</tbody>\n",
       "</table>"
      ],
      "text/latex": [
       "\\begin{tabular}{lrl}\n",
       "\\toprule\n",
       " idcourse   &   roomname & teacher   \\\\\n",
       "\\midrule\n",
       " CS152      &         21 & Atkins    \\\\\n",
       " CS154      &         01 & Atkins    \\\\\n",
       " CS101      &         20 & George    \\\\\n",
       " CS102      &         21 & George    \\\\\n",
       "\\bottomrule\n",
       "\\end{tabular}"
      ],
      "text/plain": [
       "idcourse      roomname  teacher\n",
       "----------  ----------  ---------\n",
       "CS152               21  Atkins\n",
       "CS154               01  Atkins\n",
       "CS101               20  George\n",
       "CS102               21  George"
      ]
     },
     "metadata": {},
     "output_type": "display_data"
    }
   ],
   "source": [
    "select * from lecons;"
   ]
  },
  {
   "cell_type": "code",
   "execution_count": 58,
   "metadata": {},
   "outputs": [
    {
     "name": "stdout",
     "output_type": "stream",
     "text": [
      "3 row(s) returned.\n"
     ]
    },
    {
     "data": {
      "text/html": [
       "<table>\n",
       "<thead>\n",
       "<tr><th style=\"text-align: right;\">  roomname</th><th>roomtype  </th></tr>\n",
       "</thead>\n",
       "<tbody>\n",
       "<tr><td style=\"text-align: right;\">        20</td><td>Hall      </td></tr>\n",
       "<tr><td style=\"text-align: right;\">        21</td><td>Hall      </td></tr>\n",
       "<tr><td style=\"text-align: right;\">        01</td><td>Auditorium</td></tr>\n",
       "</tbody>\n",
       "</table>"
      ],
      "text/latex": [
       "\\begin{tabular}{rl}\n",
       "\\toprule\n",
       "   roomname & roomtype   \\\\\n",
       "\\midrule\n",
       "         20 & Hall       \\\\\n",
       "         21 & Hall       \\\\\n",
       "         01 & Auditorium \\\\\n",
       "\\bottomrule\n",
       "\\end{tabular}"
      ],
      "text/plain": [
       "  roomname  roomtype\n",
       "----------  ----------\n",
       "        20  Hall\n",
       "        21  Hall\n",
       "        01  Auditorium"
      ]
     },
     "metadata": {},
     "output_type": "display_data"
    }
   ],
   "source": [
    "select * from rooms;"
   ]
  },
  {
   "cell_type": "code",
   "execution_count": 59,
   "metadata": {},
   "outputs": [
    {
     "name": "stdout",
     "output_type": "stream",
     "text": [
      "2 row(s) returned.\n"
     ]
    },
    {
     "data": {
      "text/html": [
       "<table>\n",
       "<thead>\n",
       "<tr><th>teacher  </th><th style=\"text-align: right;\">     phone</th></tr>\n",
       "</thead>\n",
       "<tbody>\n",
       "<tr><td>George   </td><td style=\"text-align: right;\">0651482192</td></tr>\n",
       "<tr><td>Atkins   </td><td style=\"text-align: right;\">0651927291</td></tr>\n",
       "</tbody>\n",
       "</table>"
      ],
      "text/latex": [
       "\\begin{tabular}{lr}\n",
       "\\toprule\n",
       " teacher   &      phone \\\\\n",
       "\\midrule\n",
       " George    & 0651482192 \\\\\n",
       " Atkins    & 0651927291 \\\\\n",
       "\\bottomrule\n",
       "\\end{tabular}"
      ],
      "text/plain": [
       "teacher         phone\n",
       "---------  ----------\n",
       "George     0651482192\n",
       "Atkins     0651927291"
      ]
     },
     "metadata": {},
     "output_type": "display_data"
    }
   ],
   "source": [
    "select * from instructors;"
   ]
  },
  {
   "cell_type": "markdown",
   "metadata": {},
   "source": [
    " ### <span style=\"color:blue\">EX - 5 </span>"
   ]
  },
  {
   "cell_type": "markdown",
   "metadata": {},
   "source": [
    "Guess the output of this anonymous block :"
   ]
  },
  {
   "cell_type": "code",
   "execution_count": 60,
   "metadata": {},
   "outputs": [
    {
     "name": "stdout",
     "output_type": "stream",
     "text": [
      "INFO:  Cursor position 2\n",
      "INFO:  Cursor position 4\n",
      "INFO:  Cursor position 5\n",
      "INFO:  Cursor position 8\n",
      "INFO:  Cursor out of result\n",
      "INFO:  Cursor position16\n"
     ]
    }
   ],
   "source": [
    "DO $$\n",
    "DECLARE\n",
    "    cur_ref refcursor;\n",
    "    rec_row RECORD;\n",
    "BEGIN\n",
    "    OPEN cur_ref FOR SELECT * FROM categories  order by category;\n",
    "    FETCH FIRST FROM cur_ref into rec_row;\n",
    "    IF NOT FOUND THEN\n",
    "        raise info 'No data found';\n",
    "        raise exception 'No data found';\n",
    "    END IF;\n",
    "    FETCH cur_ref into rec_row;\n",
    "    raise info 'Cursor position %', rec_row.category;\n",
    "    MOVE NEXT FROM cur_ref;\n",
    "    FETCH cur_ref INTO rec_row;\n",
    "    raise info 'Cursor position %', rec_row.category;\n",
    "    FETCH cur_ref INTO rec_row;\n",
    "    raise info 'Cursor position %', rec_row.category;\n",
    "    MOVE FORWARD 2 FROM cur_ref;\n",
    "    FETCH cur_ref INTO rec_row;\n",
    "    raise info 'Cursor position %', rec_row.category;\n",
    "    \n",
    "    MOVE LAST FROM cur_ref;\n",
    "    FETCH cur_ref INTO rec_row;\n",
    "    IF NOT FOUND THEN\n",
    "        raise info 'Cursor out of result';\n",
    "        MOVE RELATIVE -2 from cur_ref;\n",
    "        FETCH cur_ref INTO rec_row;\n",
    "    END IF;\n",
    "    raise info 'Cursor position%', rec_row.category;\n",
    "    CLOSE cur_ref;\n",
    "END;\n",
    "$$ \n",
    ";\n"
   ]
  },
  {
   "cell_type": "markdown",
   "metadata": {},
   "source": [
    "### <span style=\"color:blue\">EX - 6 </span>\n",
    "Create a function f_getWay accepting a customerid and returning street name of a customer.<br/>\n",
    "Use the address1 column from the customers table.<br/>\n",
    "You may use the string function split_part to help you.<br/>\n",
    "\n",
    "All string functions are described <a href=\"https://www.postgresql.org/docs/current/functions-string.html\">here</a>\n",
    "\n",
    "\n",
    "\n",
    "\n"
   ]
  },
  {
   "cell_type": "code",
   "execution_count": 61,
   "metadata": {},
   "outputs": [
    {
     "name": "stdout",
     "output_type": "stream",
     "text": [
      "NOTICE:  référence de type customers.address1%TYPE convertie en character varying\n"
     ]
    }
   ],
   "source": [
    "DROP function if exists f_getWay(integer);\n",
    "CREATE or replace FUNCTION f_getWay(custid integer) RETURNS  customers.address1%TYPE\n",
    "AS $$\n",
    "DECLARE\n",
    "v_address customers.address1%TYPE; \n",
    "v_street customers.address1%TYPE;\n",
    "BEGIN     \n",
    "   EXECUTE 'select address1 from  customers where customerid = $1' into strict v_address using custid;\n",
    "   raise info 'v_address % ',v_address;\n",
    "   v_street = split_part(v_address, ' ',2);\n",
    "   return v_street;\n",
    "END                        \n",
    "$$ \n",
    "LANGUAGE plpgsql;"
   ]
  },
  {
   "cell_type": "code",
   "execution_count": 62,
   "metadata": {},
   "outputs": [
    {
     "name": "stdout",
     "output_type": "stream",
     "text": [
      "1 row(s) returned.\n",
      "INFO:  v_address 4608499546 Dell Way \n"
     ]
    },
    {
     "data": {
      "text/html": [
       "<table>\n",
       "<thead>\n",
       "<tr><th>f_getway  </th></tr>\n",
       "</thead>\n",
       "<tbody>\n",
       "<tr><td>Dell      </td></tr>\n",
       "</tbody>\n",
       "</table>"
      ],
      "text/latex": [
       "\\begin{tabular}{l}\n",
       "\\toprule\n",
       " f\\_getway   \\\\\n",
       "\\midrule\n",
       " Dell       \\\\\n",
       "\\bottomrule\n",
       "\\end{tabular}"
      ],
      "text/plain": [
       "f_getway\n",
       "----------\n",
       "Dell"
      ]
     },
     "metadata": {},
     "output_type": "display_data"
    }
   ],
   "source": [
    "select f_getWay(1);"
   ]
  },
  {
   "cell_type": "markdown",
   "metadata": {},
   "source": [
    " ### <span style=\"color:blue\">EX - 7 </span>\n",
    " Write a function \"f_hi\" taking one argument \"username\" and return either \"Good morning\" or \"Good afternoon\"   according to the current time (now).<br/>\n",
    "Help : you could use the function now() to get back the current time and to_char() to get the hour.\n",
    " \n"
   ]
  },
  {
   "cell_type": "code",
   "execution_count": 63,
   "metadata": {},
   "outputs": [],
   "source": [
    "CREATE OR REPLACE FUNCTION f_hi(v_username text) RETURNS text\n",
    "AS $BODY$\n",
    "DECLARE\n",
    "v_label text;\n",
    "v_htime integer;\n",
    "BEGIN\n",
    "    v_htime := to_char(now(), 'HH24')::int; \n",
    "    IF v_htime > 12 THEN\n",
    "        v_label := 'Good afternoon'; \n",
    "    ELSE\n",
    "        v_label := 'Good morning';\n",
    "    END IF;\n",
    "    RETURN v_label||' '||v_username||' !'; END\n",
    "$BODY$\n",
    "LANGUAGE plpgsql;"
   ]
  },
  {
   "cell_type": "code",
   "execution_count": 64,
   "metadata": {},
   "outputs": [
    {
     "name": "stdout",
     "output_type": "stream",
     "text": [
      "1 row(s) returned.\n"
     ]
    },
    {
     "data": {
      "text/html": [
       "<table>\n",
       "<thead>\n",
       "<tr><th>f_hi               </th></tr>\n",
       "</thead>\n",
       "<tbody>\n",
       "<tr><td>Good morning Hugo !</td></tr>\n",
       "</tbody>\n",
       "</table>"
      ],
      "text/latex": [
       "\\begin{tabular}{l}\n",
       "\\toprule\n",
       " f\\_hi                \\\\\n",
       "\\midrule\n",
       " Good morning Hugo ! \\\\\n",
       "\\bottomrule\n",
       "\\end{tabular}"
      ],
      "text/plain": [
       "f_hi\n",
       "-------------------\n",
       "Good morning Hugo !"
      ]
     },
     "metadata": {},
     "output_type": "display_data"
    }
   ],
   "source": [
    "select f_hi('you');"
   ]
  },
  {
   "cell_type": "markdown",
   "metadata": {},
   "source": [
    "### <span style=\"color:blue\">EX - 8 </span>\n"
   ]
  },
  {
   "cell_type": "markdown",
   "metadata": {},
   "source": [
    "Create a function getExpensiveProduct which Reads the whole products table with a cursor and <br/>\n",
    "displays with 'raise info' all products names more expensive than the input argument v_maxprice.\n",
    "The function will return the number of products."
   ]
  },
  {
   "cell_type": "code",
   "execution_count": 65,
   "metadata": {},
   "outputs": [],
   "source": [
    "CREATE OR REPLACE FUNCTION getExpensiveProduct(v_maxprice float4) RETURNS integer \n",
    "AS\n",
    "$BODY$\n",
    "DECLARE\n",
    "    -- cur_product refcursor; \n",
    "    row_resultat products%ROWTYPE; \n",
    "    v_index integer;\n",
    "    cur_product CURSOR FOR select title,price from  products where price > v_maxprice;\n",
    "BEGIN\n",
    "    -- OPEN cur_product FOR SELECT * FROM products WHERE price > v_maxprice; \n",
    "    OPEN cur_product;\n",
    "    LOOP\n",
    "        FETCH cur_product INTO row_resultat; \n",
    "        IF NOT FOUND THEN\n",
    "            EXIT; \n",
    "        END IF;\n",
    "        RAISE NOTICE 'Product (%, %) greater than %)',row_resultat.title, row_resultat.price, v_maxprice;\n",
    "    END LOOP; \n",
    "    v_index = cur_product.count; -- Cursors have some systems variables like count\n",
    "    close cur_product;\n",
    "    RETURN v_index;\n",
    "END $BODY$\n",
    "LANGUAGE 'plpgsql' VOLATILE;"
   ]
  },
  {
   "cell_type": "code",
   "execution_count": 66,
   "metadata": {},
   "outputs": [
    {
     "name": "stdout",
     "output_type": "stream",
     "text": [
      "1 row(s) returned.\n",
      "NOTICE:  Product (BAKED VOYAGE, 25.99) greater than 5)\n",
      "NOTICE:  Product (BAKED WAGON, 26.99) greater than 5)\n",
      "NOTICE:  Product (BAKED WAIT, 24.99) greater than 5)\n",
      "NOTICE:  Product (BAKED WAKE, 13.99) greater than 5)\n",
      "NOTICE:  Product (BAKED WALLS, 22.99) greater than 5)\n",
      "NOTICE:  Product (BAKED WANDA, 25.99) greater than 5)\n",
      "NOTICE:  Product (BAKED WAR, 19.99) greater than 5)\n",
      "NOTICE:  Product (BAKED WARDROBE, 11.99) greater than 5)\n",
      "NOTICE:  Product (BAKED WARLOCK, 26.99) greater than 5)\n",
      "NOTICE:  Product (BAKED WARS, 28.99) greater than 5)\n",
      "NOTICE:  Product (BAKED WASH, 27.99) greater than 5)\n",
      "NOTICE:  Product (BAKED WASTELAND, 25.99) greater than 5)\n",
      "NOTICE:  Product (BAKED WATCH, 14.99) greater than 5)\n",
      "NOTICE:  Product (BAKED WATERFRONT, 11.99) greater than 5)\n",
      "NOTICE:  Product (BAKED WATERSHIP, 23.99) greater than 5)\n",
      "NOTICE:  Product (BAKED WEDDING, 11.99) greater than 5)\n",
      "NOTICE:  Product (BAKED WEEKEND, 17.99) greater than 5)\n",
      "NOTICE:  Product (BAKED WEREWOLF, 27.99) greater than 5)\n",
      "NOTICE:  Product (BAKED WEST, 17.99) greater than 5)\n",
      "NOTICE:  Product (BAKED WESTWARD, 20.99) greater than 5)\n",
      "NOTICE:  Product (BAKED WHALE, 27.99) greater than 5)\n",
      "NOTICE:  Product (BAKED WHISPERER, 14.99) greater than 5)\n",
      "NOTICE:  Product (BAKED WIFE, 9.99) greater than 5)\n",
      "NOTICE:  Product (BAKED WILD, 10.99) greater than 5)\n",
      "NOTICE:  Product (BAKED WILLOW, 14.99) greater than 5)\n",
      "NOTICE:  Product (BAKED WIND, 13.99) greater than 5)\n",
      "NOTICE:  Product (BAKED WINDOW, 28.99) greater than 5)\n",
      "NOTICE:  Product (BAKED WISDOM, 25.99) greater than 5)\n",
      "NOTICE:  Product (BAKED WITCHES, 18.99) greater than 5)\n",
      "NOTICE:  Product (BAKED WIZARD, 9.99) greater than 5)\n",
      "NOTICE:  Product (BAKED WOLVES, 24.99) greater than 5)\n",
      "NOTICE:  Product (BAKED WOMEN, 20.99) greater than 5)\n",
      "NOTICE:  Product (BAKED WON, 28.99) greater than 5)\n",
      "NOTICE:  Product (BAKED WONDERFUL, 21.99) greater than 5)\n",
      "NOTICE:  Product (BAKED WONDERLAND, 27.99) greater than 5)\n",
      "NOTICE:  Product (BAKED WONKA, 21.99) greater than 5)\n",
      "NOTICE:  Product (BAKED WORDS, 24.99) greater than 5)\n",
      "NOTICE:  Product (BAKED WORKER, 13.99) greater than 5)\n",
      "NOTICE:  Product (BAKED WORKING, 22.99) greater than 5)\n",
      "NOTICE:  Product (BAKED WORLD, 15.99) greater than 5)\n",
      "NOTICE:  Product (BAKED WORST, 27.99) greater than 5)\n",
      "NOTICE:  Product (BAKED WRATH, 29.99) greater than 5)\n",
      "NOTICE:  Product (BAKED WRONG, 19.99) greater than 5)\n",
      "NOTICE:  Product (BAKED WYOMING, 17.99) greater than 5)\n",
      "NOTICE:  Product (BAKED YENTL, 11.99) greater than 5)\n",
      "NOTICE:  Product (BAKED YOUNG, 15.99) greater than 5)\n",
      "NOTICE:  Product (BAKED YOUTH, 20.99) greater than 5)\n",
      "NOTICE:  Product (BAKED ZHIVAGO, 10.99) greater than 5)\n",
      "NOTICE:  Product (BAKED ZOOLANDER, 19.99) greater than 5)\n",
      "NOTICE:  Product (BAKED ZORRO, 21.99) greater than 5)\n"
     ]
    },
    {
     "data": {
      "text/html": [
       "<table>\n",
       "<thead>\n",
       "<tr><th style=\"text-align: right;\">  getexpensiveproduct</th></tr>\n",
       "</thead>\n",
       "<tbody>\n",
       "<tr><td style=\"text-align: right;\">                49999</td></tr>\n",
       "</tbody>\n",
       "</table>"
      ],
      "text/latex": [
       "\\begin{tabular}{r}\n",
       "\\toprule\n",
       "   getexpensiveproduct \\\\\n",
       "\\midrule\n",
       "                 49999 \\\\\n",
       "\\bottomrule\n",
       "\\end{tabular}"
      ],
      "text/plain": [
       "  getexpensiveproduct\n",
       "---------------------\n",
       "                49999"
      ]
     },
     "metadata": {},
     "output_type": "display_data"
    }
   ],
   "source": [
    "select getExpensiveProduct(5);"
   ]
  },
  {
   "cell_type": "markdown",
   "metadata": {},
   "source": [
    "### <span style=\"color:blue\">EX - 9 </span>\n",
    "Write a function \"f_inverse\" which inverses the input value and returns the result.<br/>\n",
    "Help  : use the WHILE control structure\n"
   ]
  },
  {
   "cell_type": "code",
   "execution_count": 67,
   "metadata": {},
   "outputs": [],
   "source": [
    "drop function if exists f_inverse(varchar);\n",
    "CREATE OR REPLACE FUNCTION f_inverse(varchar) RETURNS varchar\n",
    "AS $PROC$\n",
    "DECLARE\n",
    "v_strin ALIAS FOR $1; \n",
    "v_strout varchar; \n",
    "v_strtemp varchar; \n",
    "v_intposition integer;\n",
    "BEGIN\n",
    "    -- Initialisation de str_out, sinon sa valeur reste à NULL\n",
    "    v_strout := '';\n",
    "    -- Suppression des espaces en début et fin de chaîne\n",
    "    v_strtemp := trim(both ' ' from v_strin);\n",
    "    -- position initialisée a la longueur de la chaîne\n",
    "    -- la chaîne est traitée a l'envers\n",
    "    v_intposition := char_length(v_strtemp);\n",
    "    -- Boucle: Inverse l'ordre des caractères d'une chaîne de caractères \n",
    "    WHILE v_intposition > 0 LOOP\n",
    "        -- la chaîne donnée en argument est parcourue\n",
    "        -- à l'envers,\n",
    "        -- et les caractères sont extraits individuellement au\n",
    "        -- moyen de la fonction interne substring\n",
    "        v_strout := v_strout || substring(v_strtemp, v_intposition, 1);\n",
    "        v_intposition := v_intposition - 1; \n",
    "    END LOOP;\n",
    "RETURN v_strout;\n",
    "END; $PROC$\n",
    "LANGUAGE plpgsql;"
   ]
  },
  {
   "cell_type": "code",
   "execution_count": 68,
   "metadata": {},
   "outputs": [
    {
     "name": "stdout",
     "output_type": "stream",
     "text": [
      "1 row(s) returned.\n"
     ]
    },
    {
     "data": {
      "text/html": [
       "<table>\n",
       "<thead>\n",
       "<tr><th>f_inverse  </th></tr>\n",
       "</thead>\n",
       "<tbody>\n",
       "<tr><td>otot       </td></tr>\n",
       "</tbody>\n",
       "</table>"
      ],
      "text/latex": [
       "\\begin{tabular}{l}\n",
       "\\toprule\n",
       " f\\_inverse   \\\\\n",
       "\\midrule\n",
       " otot        \\\\\n",
       "\\bottomrule\n",
       "\\end{tabular}"
      ],
      "text/plain": [
       "f_inverse\n",
       "-----------\n",
       "otot"
      ]
     },
     "metadata": {},
     "output_type": "display_data"
    }
   ],
   "source": [
    "select f_inverse('toto');"
   ]
  },
  {
   "cell_type": "markdown",
   "metadata": {},
   "source": [
    "### <span style=\"color:blue\">EX - 10 </span>"
   ]
  },
  {
   "cell_type": "markdown",
   "metadata": {},
   "source": [
    "Write an anonymous block which counts in backwards from 10 to 0 by step 2"
   ]
  },
  {
   "cell_type": "code",
   "execution_count": 70,
   "metadata": {},
   "outputs": [
    {
     "name": "stdout",
     "output_type": "stream",
     "text": [
      "NOTICE:  Counter: 10\n",
      "NOTICE:  Counter: 8\n",
      "NOTICE:  Counter: 6\n",
      "NOTICE:  Counter: 4\n",
      "NOTICE:  Counter: 2\n"
     ]
    }
   ],
   "source": [
    "DO $$\n",
    "DECLARE\n",
    "v_counter int = 0;\n",
    "BEGIN\n",
    "    FOR v_counter IN REVERSE 10..1 BY 2  LOOP\n",
    "      RAISE NOTICE 'Counter: %', v_counter;\n",
    "    END LOOP;\n",
    "END;\n",
    "$$"
   ]
  },
  {
   "cell_type": "markdown",
   "metadata": {},
   "source": [
    "Write a function which deletes all rows from the test table lower than i and return the number of deleted rows :<br/>\n",
    "Help : try to do it with a parameterized cursor and delete rows from the cursor."
   ]
  },
  {
   "cell_type": "code",
   "execution_count": 105,
   "metadata": {},
   "outputs": [],
   "source": [
    "DROP function f_truncate(int);\n",
    "CREATE FUNCTION f_truncate(int) RETURNS integer AS $$\n",
    "DECLARE\n",
    "    row_test RECORD;\n",
    "    cur_test CURSOR (v_rowtodelete int) FOR SELECT * FROM test where i < v_rowtodelete;\n",
    "    v_counter int = 0;\n",
    "    v_i int = $1;\n",
    "BEGIN\n",
    "    OPEN cur_test(v_i);\n",
    "    LOOP\n",
    "         FETCH NEXT FROM cur_test into row_test;\n",
    "         EXIT WHEN NOT FOUND;\n",
    "         DELETE FROM test WHERE CURRENT OF cur_test;\n",
    "         v_counter =v_counter +1;\n",
    "         RAISE NOTICE 'row % deleted', row_test.i;\n",
    "    END LOOP;\n",
    "    close cur_test;\n",
    "    RAISE NOTICE 'Clean up done';\n",
    "    RETURN v_counter;\n",
    "END;\n",
    "$$ LANGUAGE plpgsql;"
   ]
  },
  {
   "cell_type": "code",
   "execution_count": 107,
   "metadata": {},
   "outputs": [
    {
     "name": "stdout",
     "output_type": "stream",
     "text": [
      "1 row(s) returned.\n",
      "NOTICE:  row 3 deleted\n",
      "NOTICE:  row 4 deleted\n",
      "NOTICE:  Clean up done\n"
     ]
    },
    {
     "data": {
      "text/html": [
       "<table>\n",
       "<thead>\n",
       "<tr><th style=\"text-align: right;\">  f_truncate</th></tr>\n",
       "</thead>\n",
       "<tbody>\n",
       "<tr><td style=\"text-align: right;\">           2</td></tr>\n",
       "</tbody>\n",
       "</table>"
      ],
      "text/latex": [
       "\\begin{tabular}{r}\n",
       "\\toprule\n",
       "   f\\_truncate \\\\\n",
       "\\midrule\n",
       "            2 \\\\\n",
       "\\bottomrule\n",
       "\\end{tabular}"
      ],
      "text/plain": [
       "  f_truncate\n",
       "------------\n",
       "           2"
      ]
     },
     "metadata": {},
     "output_type": "display_data"
    }
   ],
   "source": [
    "select f_truncate(5);"
   ]
  },
  {
   "cell_type": "markdown",
   "metadata": {},
   "source": [
    "Check your data is well cleaned up."
   ]
  },
  {
   "cell_type": "code",
   "execution_count": 108,
   "metadata": {},
   "outputs": [
    {
     "name": "stdout",
     "output_type": "stream",
     "text": [
      "0 row(s) returned.\n"
     ]
    }
   ],
   "source": [
    "select * from test where i < 5;"
   ]
  },
  {
   "cell_type": "markdown",
   "metadata": {},
   "source": [
    "### <span style=\"color:blue\">EX - 11</span>"
   ]
  },
  {
   "cell_type": "markdown",
   "metadata": {},
   "source": [
    "Modify the following program in order to catch the exception and raise a warning message describing the error encountered."
   ]
  },
  {
   "cell_type": "code",
   "execution_count": null,
   "metadata": {},
   "outputs": [],
   "source": [
    "DO $$                      \n",
    "DECLARE\n",
    "myrow_rowtype categories%ROWTYPE;                                                         \n",
    "BEGIN                     \n",
    "   SELECT * FROM categories into strict myrow_rowtype ;\n",
    "   Raise info 'Id category : % - Category Name : % ',myrow_rowtype.category,myrow_rowtype.categoryname; \n",
    "EXCEPTION\n",
    "    WHEN too_many_rows then\n",
    "    Raise warning 'Catch an error %',SQLSTATE;\n",
    "    Raise warning 'Description : %',SQLERRM;\n",
    "    WHEN others then\n",
    "    Raise warning 'Catch an other error %',SQLSTATE;\n",
    "    Raise warning 'Description : %',SQLERRM; \n",
    "END                        \n",
    "$$"
   ]
  },
  {
   "cell_type": "markdown",
   "metadata": {},
   "source": [
    "Write a division function where inputs are 2 floats and return the  result of the division\n"
   ]
  },
  {
   "cell_type": "code",
   "execution_count": 109,
   "metadata": {},
   "outputs": [],
   "source": [
    "CREATE OR REPLACE FUNCTION division(v_arg1 float, v_arg2 float) RETURNS float4\n",
    "AS $BODY$\n",
    "BEGIN\n",
    "    RETURN v_arg1::float4/v_arg2::float4; END\n",
    "$BODY$\n",
    "LANGUAGE plpgsql;\n",
    "\n"
   ]
  },
  {
   "cell_type": "code",
   "execution_count": 110,
   "metadata": {},
   "outputs": [
    {
     "name": "stdout",
     "output_type": "stream",
     "text": [
      "1 row(s) returned.\n"
     ]
    },
    {
     "data": {
      "text/html": [
       "<table>\n",
       "<thead>\n",
       "<tr><th style=\"text-align: right;\">  division</th></tr>\n",
       "</thead>\n",
       "<tbody>\n",
       "<tr><td style=\"text-align: right;\">  0.857143</td></tr>\n",
       "</tbody>\n",
       "</table>"
      ],
      "text/latex": [
       "\\begin{tabular}{r}\n",
       "\\toprule\n",
       "   division \\\\\n",
       "\\midrule\n",
       "   0.857143 \\\\\n",
       "\\bottomrule\n",
       "\\end{tabular}"
      ],
      "text/plain": [
       "  division\n",
       "----------\n",
       "  0.857143"
      ]
     },
     "metadata": {},
     "output_type": "display_data"
    }
   ],
   "source": [
    "select division(6,7)"
   ]
  },
  {
   "cell_type": "markdown",
   "metadata": {},
   "source": [
    "What happens if you set up the second argument to 0"
   ]
  },
  {
   "cell_type": "code",
   "execution_count": 111,
   "metadata": {},
   "outputs": [
    {
     "name": "stdout",
     "output_type": "stream",
     "text": [
      "1 row(s) returned.\n",
      "LOG:  Watch out, [22012]: division par zéro\n"
     ]
    },
    {
     "data": {
      "text/html": [
       "<table>\n",
       "<thead>\n",
       "<tr><th style=\"text-align: right;\">  division</th></tr>\n",
       "</thead>\n",
       "<tbody>\n",
       "<tr><td style=\"text-align: right;\">       nan</td></tr>\n",
       "</tbody>\n",
       "</table>"
      ],
      "text/latex": [
       "\\begin{tabular}{r}\n",
       "\\toprule\n",
       "   division \\\\\n",
       "\\midrule\n",
       "        nan \\\\\n",
       "\\bottomrule\n",
       "\\end{tabular}"
      ],
      "text/plain": [
       "  division\n",
       "----------\n",
       "       nan"
      ]
     },
     "metadata": {},
     "output_type": "display_data"
    }
   ],
   "source": [
    "select division(6,0)"
   ]
  },
  {
   "cell_type": "markdown",
   "metadata": {},
   "source": [
    "Catch the exception and return the value Nan :"
   ]
  },
  {
   "cell_type": "code",
   "execution_count": 112,
   "metadata": {},
   "outputs": [],
   "source": [
    "CREATE OR REPLACE FUNCTION division(arg1 integer, arg2 integer) RETURNS float4 AS\n",
    "$BODY$\n",
    "BEGIN\n",
    "    RETURN arg1::float4/arg2::float4; \n",
    "    EXCEPTION WHEN OTHERS THEN\n",
    "    -- attention, division par zéro\n",
    "    RAISE LOG 'Watch out, [%]: %', SQLSTATE, SQLERRM;\n",
    "    RETURN 'NaN'; \n",
    "END $BODY$\n",
    "LANGUAGE 'plpgsql' VOLATILE;"
   ]
  },
  {
   "cell_type": "code",
   "execution_count": 113,
   "metadata": {},
   "outputs": [
    {
     "name": "stdout",
     "output_type": "stream",
     "text": [
      "1 row(s) returned.\n",
      "LOG:  Watch out, [22012]: division par zéro\n"
     ]
    },
    {
     "data": {
      "text/html": [
       "<table>\n",
       "<thead>\n",
       "<tr><th style=\"text-align: right;\">  division</th></tr>\n",
       "</thead>\n",
       "<tbody>\n",
       "<tr><td style=\"text-align: right;\">       nan</td></tr>\n",
       "</tbody>\n",
       "</table>"
      ],
      "text/latex": [
       "\\begin{tabular}{r}\n",
       "\\toprule\n",
       "   division \\\\\n",
       "\\midrule\n",
       "        nan \\\\\n",
       "\\bottomrule\n",
       "\\end{tabular}"
      ],
      "text/plain": [
       "  division\n",
       "----------\n",
       "       nan"
      ]
     },
     "metadata": {},
     "output_type": "display_data"
    }
   ],
   "source": [
    "select division(6,0)"
   ]
  },
  {
   "cell_type": "markdown",
   "metadata": {},
   "source": [
    "### <span style=\"color:blue\">EX - 12 </span>"
   ]
  },
  {
   "cell_type": "markdown",
   "metadata": {},
   "source": [
    "In this exercice, we will trace all modifications(delete, insert, update ) run on the products tables into an audit table products_audit.\n",
    "In the products_audit table, we will save all old values in product before modification.\n",
    "Help : you could use the following DDL to create the products_audit table.\n"
   ]
  },
  {
   "cell_type": "code",
   "execution_count": 115,
   "metadata": {},
   "outputs": [],
   "source": [
    "DROP TABLE IF EXISTS products_audit;\n",
    "CREATE TABLE products_audit\n",
    "(\n",
    "    operation         char(1)   NOT NULL,\n",
    "    stamp             timestamp NOT NULL,\n",
    "    userid            text      NOT NULL,\n",
    "    prod_id serial NOT NULL,\n",
    "    category smallint NOT NULL,\n",
    "    title text NOT NULL,\n",
    "    actor text NOT NULL,\n",
    "    price numeric NOT NULL,\n",
    "    special smallint,\n",
    "    common_prod_id integer NOT NULL\n",
    ")"
   ]
  },
  {
   "cell_type": "markdown",
   "metadata": {},
   "source": [
    "Create the \"f_products_audit\" function which will save all old values "
   ]
  },
  {
   "cell_type": "code",
   "execution_count": 117,
   "metadata": {},
   "outputs": [],
   "source": [
    "DROP TRIGGER IF EXISTS tr_products_audit on products;\n",
    "DROP FUNCTION IF EXISTS f_products_audit();\n",
    "CREATE OR REPLACE FUNCTION f_products_audit() RETURNS TRIGGER\n",
    "AS $BODY$\n",
    "    BEGIN\n",
    "        --\n",
    "        -- Create a row in products_audit to reflect the operation performed on products,\n",
    "        -- make use of the special variable TG_OP to work out the operation.\n",
    "        --\n",
    "        IF (TG_OP = 'DELETE') THEN\n",
    "            INSERT INTO products_audit SELECT 'D', now(), user, OLD.*;\n",
    "        ELSIF (TG_OP = 'UPDATE') THEN\n",
    "            INSERT INTO products_audit SELECT 'U', now(), user, NEW.*;\n",
    "        ELSIF (TG_OP = 'INSERT') THEN\n",
    "            INSERT INTO products_audit SELECT 'I', now(), user, NEW.*;\n",
    "        END IF;\n",
    "        RETURN NULL; -- result is ignored since this is an BEFORE trigger\n",
    "    END;\n",
    "$BODY$\n",
    "LANGUAGE 'plpgsql' ;\n"
   ]
  },
  {
   "cell_type": "markdown",
   "metadata": {},
   "source": [
    "Create a trigger \"tr_products_audit\" firing the  f_products_audit before commiting modifications."
   ]
  },
  {
   "cell_type": "code",
   "execution_count": 118,
   "metadata": {},
   "outputs": [
    {
     "name": "stdout",
     "output_type": "stream",
     "text": [
      "NOTICE:  le trigger « tr_products_audit » de la relation « products » n'existe pas, poursuite du traitement\n"
     ]
    }
   ],
   "source": [
    "DROP TRIGGER IF EXISTS tr_products_audit on products;\n",
    "CREATE TRIGGER tr_products_audit\n",
    "BEFORE INSERT OR UPDATE OR DELETE ON products\n",
    "    FOR EACH ROW EXECUTE FUNCTION f_products_audit();\n"
   ]
  },
  {
   "cell_type": "markdown",
   "metadata": {},
   "source": [
    "Try to update/ insert a new product :"
   ]
  },
  {
   "cell_type": "code",
   "execution_count": 119,
   "metadata": {},
   "outputs": [
    {
     "name": "stdout",
     "output_type": "stream",
     "text": [
      "1 row(s) returned.\n"
     ]
    },
    {
     "data": {
      "text/html": [
       "<table>\n",
       "<thead>\n",
       "<tr><th>title       </th><th style=\"text-align: right;\">   price</th></tr>\n",
       "</thead>\n",
       "<tbody>\n",
       "<tr><td>ACADEMY BEAR</td><td style=\"text-align: right;\">0.143904</td></tr>\n",
       "</tbody>\n",
       "</table>"
      ],
      "text/latex": [
       "\\begin{tabular}{lr}\n",
       "\\toprule\n",
       " title        &    price \\\\\n",
       "\\midrule\n",
       " ACADEMY BEAR & 0.143904 \\\\\n",
       "\\bottomrule\n",
       "\\end{tabular}"
      ],
      "text/plain": [
       "title            price\n",
       "------------  --------\n",
       "ACADEMY BEAR  0.143904"
      ]
     },
     "metadata": {},
     "output_type": "display_data"
    }
   ],
   "source": [
    "select title,price from products where title ='ACADEMY BEAR';"
   ]
  },
  {
   "cell_type": "code",
   "execution_count": 122,
   "metadata": {},
   "outputs": [],
   "source": [
    "update products set price= price * 1.2 where title ='ACADEMY BEAR';"
   ]
  },
  {
   "cell_type": "markdown",
   "metadata": {},
   "source": [
    "Check your products_audit table :"
   ]
  },
  {
   "cell_type": "code",
   "execution_count": 123,
   "metadata": {},
   "outputs": [
    {
     "name": "stdout",
     "output_type": "stream",
     "text": [
      "2 row(s) returned.\n"
     ]
    },
    {
     "data": {
      "text/html": [
       "<table>\n",
       "<thead>\n",
       "<tr><th>now                             </th><th>operation  </th><th>stamp                     </th><th>userid  </th><th style=\"text-align: right;\">  prod_id</th><th style=\"text-align: right;\">  category</th><th>title       </th><th>actor            </th><th style=\"text-align: right;\">   price</th><th style=\"text-align: right;\">  special</th><th style=\"text-align: right;\">  common_prod_id</th></tr>\n",
       "</thead>\n",
       "<tbody>\n",
       "<tr><td>2019-01-23 08:19:44.227392+01:00</td><td>U          </td><td>2019-01-23 08:19:16.047849</td><td>ds2     </td><td style=\"text-align: right;\">       59</td><td style=\"text-align: right;\">         7</td><td>ACADEMY BEAR</td><td>LAUREN WASHINGTON</td><td style=\"text-align: right;\">0.172685</td><td style=\"text-align: right;\">        0</td><td style=\"text-align: right;\">           38089</td></tr>\n",
       "<tr><td>2019-01-23 08:19:44.227392+01:00</td><td>U          </td><td>2019-01-23 08:19:41.593872</td><td>ds2     </td><td style=\"text-align: right;\">       59</td><td style=\"text-align: right;\">         7</td><td>ACADEMY BEAR</td><td>LAUREN WASHINGTON</td><td style=\"text-align: right;\">0.172685</td><td style=\"text-align: right;\">        0</td><td style=\"text-align: right;\">           38089</td></tr>\n",
       "</tbody>\n",
       "</table>"
      ],
      "text/latex": [
       "\\begin{tabular}{llllrrllrrr}\n",
       "\\toprule\n",
       " now                              & operation   & stamp                      & userid   &   prod\\_id &   category & title        & actor             &    price &   special &   common\\_prod\\_id \\\\\n",
       "\\midrule\n",
       " 2019-01-23 08:19:44.227392+01:00 & U           & 2019-01-23 08:19:16.047849 & ds2      &        59 &          7 & ACADEMY BEAR & LAUREN WASHINGTON & 0.172685 &         0 &            38089 \\\\\n",
       " 2019-01-23 08:19:44.227392+01:00 & U           & 2019-01-23 08:19:41.593872 & ds2      &        59 &          7 & ACADEMY BEAR & LAUREN WASHINGTON & 0.172685 &         0 &            38089 \\\\\n",
       "\\bottomrule\n",
       "\\end{tabular}"
      ],
      "text/plain": [
       "now                               operation    stamp                       userid      prod_id    category  title         actor                 price    special    common_prod_id\n",
       "--------------------------------  -----------  --------------------------  --------  ---------  ----------  ------------  -----------------  --------  ---------  ----------------\n",
       "2019-01-23 08:19:44.227392+01:00  U            2019-01-23 08:19:16.047849  ds2              59           7  ACADEMY BEAR  LAUREN WASHINGTON  0.172685          0             38089\n",
       "2019-01-23 08:19:44.227392+01:00  U            2019-01-23 08:19:41.593872  ds2              59           7  ACADEMY BEAR  LAUREN WASHINGTON  0.172685          0             38089"
      ]
     },
     "metadata": {},
     "output_type": "display_data"
    }
   ],
   "source": [
    "select now(),* from products_audit;"
   ]
  },
  {
   "cell_type": "markdown",
   "metadata": {},
   "source": [
    "### <span style=\"color:blue\">EX - 13 </span>"
   ]
  },
  {
   "cell_type": "markdown",
   "metadata": {},
   "source": [
    "The manager wants to see all orders per customer.<br/>\n",
    "For this exercice, we will limit orders to the customer where customerid is 11769.<br/>\n",
    "help: you will need to access to the customers and orders table.\n",
    "\n",
    "Create a view 'view_custOrders' displaying all orders attached to the customerid 11769 ?<br/>\n",
    "Note that the view should contain following informations : customerid,firstname,lastname,orderdate,tax,orderid \n"
   ]
  },
  {
   "cell_type": "code",
   "execution_count": 124,
   "metadata": {},
   "outputs": [],
   "source": [
    "drop view if exists view_custOrders;\n",
    "create or replace view view_custOrders  as select C.customerid,firstname,lastname,orderdate,tax,orderid \n",
    "from customers C INNER join orders O on C.customerid=O.customerid \n",
    "where C.customerid =11769;"
   ]
  },
  {
   "cell_type": "markdown",
   "metadata": {},
   "source": [
    "Check the content of the view "
   ]
  },
  {
   "cell_type": "code",
   "execution_count": 125,
   "metadata": {},
   "outputs": [
    {
     "name": "stdout",
     "output_type": "stream",
     "text": [
      "5 row(s) returned.\n"
     ]
    },
    {
     "data": {
      "text/html": [
       "<table>\n",
       "<thead>\n",
       "<tr><th style=\"text-align: right;\">  customerid</th><th>firstname  </th><th>lastname  </th><th>orderdate  </th><th style=\"text-align: right;\">  tax</th><th style=\"text-align: right;\">  orderid</th></tr>\n",
       "</thead>\n",
       "<tbody>\n",
       "<tr><td style=\"text-align: right;\">       11769</td><td>WDQWVU     </td><td>EHXFHFISJU</td><td>2009-06-10 </td><td style=\"text-align: right;\">20   </td><td style=\"text-align: right;\">    25278</td></tr>\n",
       "<tr><td style=\"text-align: right;\">       11769</td><td>WDQWVU     </td><td>EHXFHFISJU</td><td>2009-08-25 </td><td style=\"text-align: right;\">15.09</td><td style=\"text-align: right;\">    37795</td></tr>\n",
       "<tr><td style=\"text-align: right;\">       11769</td><td>WDQWVU     </td><td>EHXFHFISJU</td><td>2009-09-08 </td><td style=\"text-align: right;\">20.33</td><td style=\"text-align: right;\">    43350</td></tr>\n",
       "<tr><td style=\"text-align: right;\">       11769</td><td>WDQWVU     </td><td>EHXFHFISJU</td><td>2009-12-29 </td><td style=\"text-align: right;\"> 8.1 </td><td style=\"text-align: right;\">    55074</td></tr>\n",
       "<tr><td style=\"text-align: right;\">       11769</td><td>WDQWVU     </td><td>EHXFHFISJU</td><td>2009-12-31 </td><td style=\"text-align: right;\">21.83</td><td style=\"text-align: right;\">    57277</td></tr>\n",
       "</tbody>\n",
       "</table>"
      ],
      "text/latex": [
       "\\begin{tabular}{rlllrr}\n",
       "\\toprule\n",
       "   customerid & firstname   & lastname   & orderdate   &   tax &   orderid \\\\\n",
       "\\midrule\n",
       "        11769 & WDQWVU      & EHXFHFISJU & 2009-06-10  & 20    &     25278 \\\\\n",
       "        11769 & WDQWVU      & EHXFHFISJU & 2009-08-25  & 15.09 &     37795 \\\\\n",
       "        11769 & WDQWVU      & EHXFHFISJU & 2009-09-08  & 20.33 &     43350 \\\\\n",
       "        11769 & WDQWVU      & EHXFHFISJU & 2009-12-29  &  8.1  &     55074 \\\\\n",
       "        11769 & WDQWVU      & EHXFHFISJU & 2009-12-31  & 21.83 &     57277 \\\\\n",
       "\\bottomrule\n",
       "\\end{tabular}"
      ],
      "text/plain": [
       "  customerid  firstname    lastname    orderdate      tax    orderid\n",
       "------------  -----------  ----------  -----------  -----  ---------\n",
       "       11769  WDQWVU       EHXFHFISJU  2009-06-10   20         25278\n",
       "       11769  WDQWVU       EHXFHFISJU  2009-08-25   15.09      37795\n",
       "       11769  WDQWVU       EHXFHFISJU  2009-09-08   20.33      43350\n",
       "       11769  WDQWVU       EHXFHFISJU  2009-12-29    8.1       55074\n",
       "       11769  WDQWVU       EHXFHFISJU  2009-12-31   21.83      57277"
      ]
     },
     "metadata": {},
     "output_type": "display_data"
    }
   ],
   "source": [
    "select * from view_custOrders;"
   ]
  },
  {
   "cell_type": "markdown",
   "metadata": {},
   "source": [
    "From the view_custOrders view, the manager must be able to delete and update the customer orders.\n",
    "\n",
    "Create a function update_custOrder_view which will allow  :\n",
    " * to delete any order\n",
    " * to update following fields : firstname, lastname, orderdate,tax\n"
   ]
  },
  {
   "cell_type": "code",
   "execution_count": 126,
   "metadata": {},
   "outputs": [],
   "source": [
    "CREATE OR REPLACE FUNCTION update_custOrder_view() RETURNS TRIGGER AS $$\n",
    "    BEGIN\n",
    "        -- The TG_OP variable give the event name  which will fire the trigger\n",
    "        IF (TG_OP = 'DELETE') THEN\n",
    "            -- if we delete an order we need to delete all products attached to the order\n",
    "            DELETE FROM orderlines WHERE orderid = OLD.orderid;\n",
    "            DELETE FROM orders WHERE orderid = OLD.orderid;\n",
    "            IF NOT FOUND THEN RETURN NULL; END IF;\n",
    "        ELSIF (TG_OP = 'UPDATE') THEN\n",
    "            UPDATE orders\n",
    "            SET \n",
    "            orderdate = NEW.orderdate,tax = NEW.tax WHERE orderid = OLD.orderid;\n",
    "            UPDATE customers \n",
    "            SET \n",
    "            firstname = NEW.firstname,lastname= NEW.lastname  WHERE customerid = OLD.customerid; \n",
    "            IF NOT FOUND THEN RETURN NULL; END IF;\n",
    "        END IF;\n",
    "        RETURN NULL;\n",
    "    END;\n",
    "$$ LANGUAGE plpgsql;"
   ]
  },
  {
   "cell_type": "markdown",
   "metadata": {},
   "source": [
    "Create the trigger that will fire the update_custOrder_view function."
   ]
  },
  {
   "cell_type": "code",
   "execution_count": 127,
   "metadata": {},
   "outputs": [
    {
     "name": "stdout",
     "output_type": "stream",
     "text": [
      "NOTICE:  le trigger « tr_update_custorder_view » de la relation « view_custorders » n'existe pas, poursuite du traitement\n"
     ]
    }
   ],
   "source": [
    "DROP TRIGGER IF EXISTS tr_update_custOrder_view on view_custOrders;\n",
    "CREATE TRIGGER tr_update_custOrder_view\n",
    "INSTEAD OF UPDATE OR DELETE ON view_custOrders\n",
    "FOR EACH ROW EXECUTE FUNCTION update_custOrder_view();"
   ]
  },
  {
   "cell_type": "markdown",
   "metadata": {},
   "source": [
    "Delete the order (21499)"
   ]
  },
  {
   "cell_type": "code",
   "execution_count": null,
   "metadata": {},
   "outputs": [],
   "source": [
    "delete from view_custOrders where orderid=21499;"
   ]
  },
  {
   "cell_type": "markdown",
   "metadata": {},
   "source": [
    "Check the order (21499) is no more available "
   ]
  },
  {
   "cell_type": "code",
   "execution_count": null,
   "metadata": {},
   "outputs": [],
   "source": [
    "select * from view_custOrders;"
   ]
  },
  {
   "cell_type": "markdown",
   "metadata": {},
   "source": [
    "Check the order is well deleted from ordelines and orders tables :"
   ]
  },
  {
   "cell_type": "code",
   "execution_count": null,
   "metadata": {},
   "outputs": [],
   "source": [
    "select * from orderlines where orderid=21499;"
   ]
  },
  {
   "cell_type": "code",
   "execution_count": null,
   "metadata": {},
   "outputs": [],
   "source": [
    "select * from orders where orderid=21499;"
   ]
  },
  {
   "cell_type": "markdown",
   "metadata": {},
   "source": [
    "Now increase the tax to 20 for the order (37795)"
   ]
  },
  {
   "cell_type": "code",
   "execution_count": null,
   "metadata": {},
   "outputs": [],
   "source": [
    "update view_custOrders set tax=20 where orderid=25278;"
   ]
  },
  {
   "cell_type": "markdown",
   "metadata": {},
   "source": [
    "Check the view and tables are well updated  "
   ]
  },
  {
   "cell_type": "code",
   "execution_count": null,
   "metadata": {},
   "outputs": [],
   "source": [
    "select * from view_custOrders where orderid=25278;"
   ]
  },
  {
   "cell_type": "code",
   "execution_count": null,
   "metadata": {},
   "outputs": [],
   "source": [
    "select * from orders where orderid=25278;"
   ]
  },
  {
   "cell_type": "markdown",
   "metadata": {},
   "source": [
    "### <span style=\"color:blue\">EX - 14 </span>"
   ]
  },
  {
   "cell_type": "markdown",
   "metadata": {},
   "source": [
    "Write a py_max function returning the maximum value between 2 arguments"
   ]
  },
  {
   "cell_type": "code",
   "execution_count": 129,
   "metadata": {},
   "outputs": [],
   "source": [
    "DROP FUNCTION py_max;\n",
    "CREATE FUNCTION py_max (a integer, b integer)\n",
    "  RETURNS integer\n",
    "AS $$\n",
    "  if a > b:\n",
    "    return a\n",
    "  return b\n",
    "$$ LANGUAGE plpython2u;"
   ]
  },
  {
   "cell_type": "code",
   "execution_count": 130,
   "metadata": {},
   "outputs": [
    {
     "name": "stdout",
     "output_type": "stream",
     "text": [
      "1 row(s) returned.\n"
     ]
    },
    {
     "data": {
      "text/html": [
       "<table>\n",
       "<thead>\n",
       "<tr><th style=\"text-align: right;\">  pymax</th></tr>\n",
       "</thead>\n",
       "<tbody>\n",
       "<tr><td style=\"text-align: right;\">      4</td></tr>\n",
       "</tbody>\n",
       "</table>"
      ],
      "text/latex": [
       "\\begin{tabular}{r}\n",
       "\\toprule\n",
       "   pymax \\\\\n",
       "\\midrule\n",
       "       4 \\\\\n",
       "\\bottomrule\n",
       "\\end{tabular}"
      ],
      "text/plain": [
       "  pymax\n",
       "-------\n",
       "      4"
      ]
     },
     "metadata": {},
     "output_type": "display_data"
    }
   ],
   "source": [
    "select pymax(2,4)"
   ]
  },
  {
   "cell_type": "code",
   "execution_count": null,
   "metadata": {},
   "outputs": [],
   "source": []
  }
 ],
 "metadata": {
  "kernelspec": {
   "display_name": "PostgreSQL",
   "language": "sql",
   "name": "postgres"
  },
  "language_info": {
   "codemirror_mode": "sql",
   "file_extension": ".sql",
   "mimetype": "text/x-postgresql",
   "name": "PostgreSQL"
  }
 },
 "nbformat": 4,
 "nbformat_minor": 2
}
