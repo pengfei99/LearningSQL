{
 "cells": [
  {
   "cell_type": "markdown",
   "metadata": {},
   "source": [
    "# DDL"
   ]
  },
  {
   "cell_type": "markdown",
   "metadata": {},
   "source": [
    "Etablissez d'abord une connexion à la base 'DS2' sur le serveur dans votre VM"
   ]
  },
  {
   "cell_type": "code",
   "execution_count": null,
   "metadata": {},
   "outputs": [],
   "source": [
    "-- connection: host='localhost' dbname='ds2' user='ds2' "
   ]
  },
  {
   "cell_type": "markdown",
   "metadata": {},
   "source": [
    "----------------------------------------------------------------------------"
   ]
  },
  {
   "cell_type": "markdown",
   "metadata": {},
   "source": [
    "## Exercices sur les 3 tables exemples"
   ]
  },
  {
   "cell_type": "markdown",
   "metadata": {},
   "source": [
    "* Exécutez la commande suivante afin d'avoir les 3 tables modèles"
   ]
  },
  {
   "cell_type": "code",
   "execution_count": null,
   "metadata": {},
   "outputs": [],
   "source": [
    "DROP TYPE IF EXISTS lp_level CASCADE;\n",
    "\n",
    "CREATE TYPE lp_level AS ENUM ('gold', 'silver', 'bronze'); \n",
    "\n",
    "DROP TABLE IF EXISTS loyalty_program;\n",
    "\n",
    "CREATE TABLE loyalty_program ( \n",
    "custId INTEGER NOT NULL, \n",
    "lpLevel lp_level \n",
    "); \n",
    "\n",
    "DROP TABLE IF EXISTS lp_cust;\n",
    "\n",
    "CREATE TABLE lp_cust ( \n",
    "custId SERIAL NOT NULL, \n",
    "firstName CHARACTER VARYING(50), \n",
    "lastName CHARACTER VARYING(50), \n",
    "userName CHARACTER VARYING(50), \n",
    "CONSTRAINT lp_cust_pkey PRIMARY KEY (custId) \n",
    "); \n",
    "\n",
    "DROP TABLE IF EXISTS lp_actor;\n",
    "\n",
    "CREATE TABLE lp_actor ( \n",
    "actorId SERIAL NOT NULL, \n",
    "firstName CHARACTER VARYING(50), \n",
    "lastName CHARACTER VARYING(50), \n",
    "CONSTRAINT lp_act_pkey PRIMARY KEY (actorId) \n",
    ");"
   ]
  },
  {
   "cell_type": "markdown",
   "metadata": {},
   "source": [
    "* Exécutez la commande suivante afin de remplir les tables"
   ]
  },
  {
   "cell_type": "code",
   "execution_count": null,
   "metadata": {},
   "outputs": [],
   "source": [
    "INSERT INTO lp_cust VALUES \n",
    "(1, 'Fred' ,'Flinstone' ,'freddo' ), \n",
    "(2, 'John' ,'Smith' ,'jsmith' ), \n",
    "(3, 'Homer' ,'Simpson' ,'homey' ), \n",
    "(4, 'Homer' ,'Brown' ,'notsofamous' ), \n",
    "(5, 'Ozzy' ,'Ozzbourn' ,'sabbath' ), \n",
    "(6, 'Homer' ,'Gain' ,'noplacelike' ), \n",
    "(7, 'Jack' ,'Brown' ,'bigjack' ), \n",
    "(8, 'Morten' ,'Harket' ,'aha' ), \n",
    "(9, 'John' ,'Smith' ,'jsmith1' ); \n",
    "\n",
    "INSERT INTO loyalty_program VALUES \n",
    "(1, 'gold' ), \n",
    "(2, 'silver' ), \n",
    "(3, 'silver' ), \n",
    "(4, 'bronze' ), \n",
    "(5, 'bronze' ), \n",
    "(10, 'silver' ), \n",
    "(10, 'bronze' ), \n",
    "(11, 'gold' ); \n",
    "\n",
    "INSERT INTO lp_actor VALUES \n",
    "(1, 'Fred' ,'Flinstone' ), \n",
    "(2, 'Homer' ,'Simpson' ), \n",
    "(3, 'Greta' ,'Garbo' ), \n",
    "(4, 'Jennifer' , 'Lawrence' ), \n",
    "(5, 'Will' ,'Smith' );"
   ]
  },
  {
   "cell_type": "markdown",
   "metadata": {},
   "source": [
    "* Réalisez entre les 2 premières tables tous les types de jointure vues en cours."
   ]
  },
  {
   "cell_type": "code",
   "execution_count": null,
   "metadata": {},
   "outputs": [],
   "source": [
    "SELECT *\n",
    "FROM lp_cust A\n",
    "INNER JOIN loyalty_program B ON A.custId = B.custId;"
   ]
  },
  {
   "cell_type": "code",
   "execution_count": null,
   "metadata": {},
   "outputs": [],
   "source": [
    "SELECT *\n",
    "FROM lp_cust A\n",
    "LEFT JOIN loyalty_program B ON A.custId = B.custId;"
   ]
  },
  {
   "cell_type": "code",
   "execution_count": null,
   "metadata": {},
   "outputs": [],
   "source": [
    "SELECT *\n",
    "FROM lp_cust A\n",
    "RIGHT JOIN loyalty_program B ON A.custId = B.custId;"
   ]
  },
  {
   "cell_type": "code",
   "execution_count": null,
   "metadata": {},
   "outputs": [],
   "source": [
    "SELECT *\n",
    "FROM lp_cust A\n",
    "INNER JOIN lp_cust B ON A.custId = B.custId;"
   ]
  },
  {
   "cell_type": "code",
   "execution_count": null,
   "metadata": {},
   "outputs": [],
   "source": [
    "SELECT *\n",
    "FROM lp_cust A\n",
    "FULL OUTER JOIN loyalty_program B ON A.custId = B.custId;"
   ]
  },
  {
   "cell_type": "code",
   "execution_count": null,
   "metadata": {},
   "outputs": [],
   "source": [
    "SELECT *\n",
    "FROM lp_cust\n",
    "CROSS JOIN loyalty_program;"
   ]
  },
  {
   "cell_type": "code",
   "execution_count": null,
   "metadata": {},
   "outputs": [],
   "source": [
    "SELECT *                              -- INNER JOIN est appliqué par defaut\n",
    "FROM lp_cust\n",
    "NATURAL JOIN loyalty_program;"
   ]
  },
  {
   "cell_type": "markdown",
   "metadata": {},
   "source": [
    "* Réalisez entre les 2 tables compatibles les opérations suivantes dans les 2 sens : __UNION, UNION ALL, INTERSECT, EXECEPT__"
   ]
  },
  {
   "cell_type": "code",
   "execution_count": null,
   "metadata": {},
   "outputs": [],
   "source": [
    "SELECT firstName, lastName             -- ENLEVE LES DOUBLONS\n",
    "FROM lp_cust                           -- L'ORDRE DES TABLES DANS LA REQUETE \n",
    "UNION                                  -- N'EST PAS PERTINENT\n",
    "SELECT firstName, lastName\n",
    "FROM lp_actor;"
   ]
  },
  {
   "cell_type": "code",
   "execution_count": null,
   "metadata": {},
   "outputs": [],
   "source": [
    "SELECT firstName, lastName             -- LAISSE LES DOUBLONS\n",
    "FROM lp_cust                           -- L'ORDRE DES TABLES DANS LA REQUETE \n",
    "UNION ALL                              -- N'EST PAS PERTINENT\n",
    "SELECT firstName, lastName\n",
    "FROM lp_actor;"
   ]
  },
  {
   "cell_type": "code",
   "execution_count": null,
   "metadata": {},
   "outputs": [],
   "source": [
    "SELECT firstName, lastName             -- LIGNES COMMUNES\n",
    "FROM lp_cust                           -- L'ORDRE DES TABLES DANS LA REQUETE \n",
    "INTERSECT                              -- N'EST PAS PERTINENT\n",
    "SELECT firstName, lastName\n",
    "FROM lp_actor;"
   ]
  },
  {
   "cell_type": "code",
   "execution_count": null,
   "metadata": {},
   "outputs": [],
   "source": [
    "SELECT firstName, lastName             -- LIGNES UNIQUEMENT PRESENTES DANS LA PREMIERE TABLE\n",
    "FROM lp_cust                          -- L'ORDRE DES TABLES DANS LA REQUETE \n",
    "EXCEPT                                 -- N'EST PAS PERTINENT\n",
    "SELECT firstName, lastName\n",
    "FROM lp_actor;"
   ]
  },
  {
   "cell_type": "code",
   "execution_count": null,
   "metadata": {},
   "outputs": [],
   "source": [
    "SELECT firstName, lastName             -- LIGNES UNIQUEMENT PRESENTES DANS LA PREMIERE TABLE\n",
    "FROM lp_actor                          -- L'ORDRE DES TABLES DANS LA REQUETE \n",
    "EXCEPT                                 -- N'EST PAS PERTINENT\n",
    "SELECT firstName, lastName\n",
    "FROM lp_cust;"
   ]
  },
  {
   "cell_type": "markdown",
   "metadata": {},
   "source": [
    "----------------------------------------------------------------------------"
   ]
  },
  {
   "cell_type": "markdown",
   "metadata": {},
   "source": [
    "## Exercices sur la base de test"
   ]
  },
  {
   "cell_type": "markdown",
   "metadata": {},
   "source": [
    "* Affichez le nombre de clients qui n'ont pas passé de commande et le nombre de clients total"
   ]
  },
  {
   "cell_type": "code",
   "execution_count": null,
   "metadata": {},
   "outputs": [],
   "source": [
    "SELECT count(*)\n",
    "FROM customers\n",
    "LEFT JOIN orders ON orders.customerid = customers.customerid\n",
    "WHERE orderid IS null\n",
    "UNION \n",
    "SELECT count(*)\n",
    "FROM customers;"
   ]
  },
  {
   "cell_type": "markdown",
   "metadata": {},
   "source": [
    "* Sélectionnez les produits vendus en plus de 30 exemplaires (_trié par nombre d'exemplaires_)"
   ]
  },
  {
   "cell_type": "code",
   "execution_count": null,
   "metadata": {},
   "outputs": [],
   "source": [
    "SELECT products.title, sum(quantity)\n",
    "FROM products\n",
    "LEFT JOIN orderlines ON products.prod_id = orderlines.prod_id\n",
    "GROUP BY products.title\n",
    "HAVING sum(quantity) > 30\n",
    "ORDER BY sum(quantity) DESC;"
   ]
  },
  {
   "cell_type": "markdown",
   "metadata": {},
   "source": [
    "* Listez pour chaque produit la quantité en stock et la quantité commandée\n",
    "</br> (_Nous allons trier le résultat suivant la quantité en stock_)\n",
    "</br> (_De plus, le résultat retourne 50 000 lignes, On ne va afficher que les 20 premierères_)"
   ]
  },
  {
   "cell_type": "code",
   "execution_count": null,
   "metadata": {},
   "outputs": [],
   "source": [
    "SELECT title, sum(quan_in_stock), sum(quantity)\n",
    "FROM products\n",
    "LEFT JOIN inventory ON products.prod_id = inventory.prod_id\n",
    "LEFT JOIN orderlines ON products.prod_id = orderlines.prod_id\n",
    "GROUP BY title\n",
    "ORDER BY sum(quan_in_stock) DESC\n",
    "LIMIT 20;"
   ]
  },
  {
   "cell_type": "markdown",
   "metadata": {},
   "source": [
    "* Comparez les quantité vendues et celles en stock\n",
    "</br>_Nous reprenons la requête précédente et nous appliquons un pourcentage entre les 2 sommes qui indiquera la qualité de la gestion du stock pour se produit._\n",
    "</br>_Certaines quantités en stock sont nulles, nous devons les traiter indépendamment afin d'éviter une division par 0 (qui conduit à une erreur et un arrêt du traitement)._\n",
    "</br>_Dans notre exemple, ces cas là afficheront un ratio de -1_\n",
    "</br> (_De plus, le résultat retourne 50 000 lignes, On ne va afficher que les 20 premierères_)"
   ]
  },
  {
   "cell_type": "code",
   "execution_count": null,
   "metadata": {},
   "outputs": [],
   "source": [
    "select title, sum(quan_in_stock), sum(quantity), (cast(sum(quantity) as float)/cast(sum(quan_in_stock) as float))*100 AS RATIO\n",
    "from products\n",
    "left join inventory on products.prod_id = inventory.prod_id\n",
    "left join orderlines on products.prod_id = orderlines.prod_id\n",
    "group by title\n",
    "HAVING max(quan_in_stock) <> 0\n",
    "UNION\n",
    "select title, max(quan_in_stock), sum(quantity), -1 AS RATIO\n",
    "from products\n",
    "left join inventory on products.prod_id = inventory.prod_id\n",
    "left join orderlines on products.prod_id = orderlines.prod_id\n",
    "group by title\n",
    "HAVING max(quan_in_stock) = 0\n",
    "LIMIT 20"
   ]
  }
 ],
 "metadata": {
  "kernelspec": {
   "display_name": "PostgreSQL",
   "language": "sql",
   "name": "postgres"
  },
  "language_info": {
   "codemirror_mode": "sql",
   "file_extension": ".sql",
   "mimetype": "text/x-postgresql",
   "name": "PostgreSQL"
  }
 },
 "nbformat": 4,
 "nbformat_minor": 2
}
