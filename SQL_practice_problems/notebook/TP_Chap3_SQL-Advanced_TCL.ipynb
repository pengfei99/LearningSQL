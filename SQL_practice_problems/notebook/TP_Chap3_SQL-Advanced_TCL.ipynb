{
 "cells": [
  {
   "cell_type": "markdown",
   "metadata": {},
   "source": [
    "## TP sur les Transactions\n",
    "\n",
    "* Ouvrez une seconde fenêtre \n",
    "\n",
    "Cliquez sur l'icône de l'application et choisissez \"New PgAdmin 4 window...\"\n",
    "Pour les utilisateurs de linux, ouvrez une nouvel onglet et identifiez-vous sur le serveur PgAdmin\n",
    "\n",
    "* Dans la premier fenêtre, désactivez les options 'auto commit' et 'auto rollback' du bouton 'Execute/Refresh'.\n",
    "\n",
    "* Dans la seconde fenêtre, ouvrez l'éditeur de requête sur le schéma ds2 de la base ds2.\n",
    "\n",
    "* Les commandes suivantes sont dans l'ordre chronologique et sont préfixées par la fenêtre où les exécuter :\n",
    " \n",
    "</br>_FEN2:_ SELECT * FROM lp_cust WHERE custid >= 10; \n",
    "</br>_FEN1:_ BEGIN; \n",
    "</br>_FEN1:_ INSERT INTO lp_cust VALUES  (10, 'Ben' ,'Johnson' ,'benji'); \n",
    "</br>_FEN2:_ SELECT * FROM lp_cust WHERE custid >= 10; \n",
    "</br>__La transaction n'a pas encore été commitée donc non encore visible par les autres transactions.__\n",
    "</br> _FEN1:_ COMMIT; \n",
    "</br> _FEN2:_ SELECT * FROM lp_cust WHERE custid >= 10; \n",
    "</br>__Résultat de la transaction visible.__\n",
    "\n",
    "</br>_FEN1:_ SELECT * FROM lp_cust WHERE custid >= 10; \n",
    "</br>_FEN1:_ BEGIN; \n",
    "</br>_FEN1:_ DELETE FROM lp_cust WHERE custid >= 10; \n",
    "</br>_FEN1:_ SELECT * FROM lp_cust WHERE custid >= 10; \n",
    "</br>_FEN2:_ SELECT * FROM lp_cust WHERE custid >= 10; \n",
    "</br>__la transaction en cours, la ligne a été supprimée mais pas pour les autres transactions__\n",
    "</br>_FEN1:_ ROLLBACK; \n",
    "On annule la transaction\n",
    "</br>_FEN2:_ SELECT * FROM lp_cust WHERE custid >= 10; \n",
    "</br>_FEN1:_ SELECT * FROM lp_cust WHERE custid >= 10; \n",
    "</br>__Pas de modification effective du contenu de la table.__\n",
    "\n",
    "Dans l'\"autre sens\" maintenant\n",
    "</br>_FEN1:_ BEGIN; </font>\n",
    "</br>_FEN1:_ SET TRANSACTION ISOLATION LEVEL READ COMMITTED;</font>\n",
    "</br>_FEN1:_ SELECT * FROM lp_cust WHERE custid >= 10; </font>\n",
    "</br>_FEN2:_ UPDATE lp_cust SET firstname='James' WHERE custid = 10;  </font>\n",
    "</br>_FEN1:_ SELECT * FROM lp_cust WHERE custid >= 10; </font>\n",
    "</br>__La ligne a change pendant une transaction en cours dans la FENETRE 1__\n",
    "</br>_FEN1:_ UPDATE lp_cust SET firstname='Joe' WHERE firstname='Ben';</font>\n",
    "</br>_FEN1:_ COMMIT; </font>\n",
    "</br>__La ligne n'a pas été mise à jour comme le \"souhaitait\" la transaction 1.__\n",
    " \n",
    "</br>_FEN1:_ BEGIN; </font>\n",
    "</br>_FEN1:_ SET TRANSACTION ISOLATION LEVEL SERIALIZABLE;</font>\n",
    "</br>_FEN1:_ SELECT * FROM lp_cust WHERE custid >= 10; </font>\n",
    "</br>_FEN2:_ UPDATE lp_cust SET firstname='Clark' WHERE custid = 10; </font>\n",
    "</br>_FEN1:_ SELECT * FROM lp_cust WHERE custid >= 10; </font>\n",
    "</br>_FEN2:_ SELECT * FROM lp_cust WHERE custid >= 10; </font>\n",
    "</br>__La ligne n'a pas changé pour la transaction mais est changée pour la transaction 2__\n",
    "</br>_FEN1:_ UPDATE lp_cust SET firstname='Joe' WHERE firstname='Clark';</font>\n",
    "</br>__Cela provoque une erreur car PostgreSQL détecte que la ligne a été mise à jour par une autre transaction.__\n",
    "</br>__La transaction 1 est automatiquement 'ROLLBACKEE'__\n"
   ]
  },
  {
   "cell_type": "code",
   "execution_count": null,
   "metadata": {},
   "outputs": [],
   "source": []
  }
 ],
 "metadata": {
  "kernelspec": {
   "display_name": "Python 3",
   "language": "python",
   "name": "python3"
  },
  "language_info": {
   "codemirror_mode": {
    "name": "ipython",
    "version": 3
   },
   "file_extension": ".py",
   "mimetype": "text/x-python",
   "name": "python",
   "nbconvert_exporter": "python",
   "pygments_lexer": "ipython3",
   "version": "3.7.0"
  }
 },
 "nbformat": 4,
 "nbformat_minor": 2
}
