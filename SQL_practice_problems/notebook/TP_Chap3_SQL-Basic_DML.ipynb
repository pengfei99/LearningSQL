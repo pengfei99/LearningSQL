{
 "cells": [
  {
   "cell_type": "markdown",
   "metadata": {},
   "source": [
    "## TP sur les DML\n",
    "\n",
    "* Affichez le contenu de la table 'categories'\n",
    "\n",
    "* Découvrez le contenu de la table 'products' en limitant au 100 premiers (de 2 manières différentes)\n",
    "\n",
    "* Combien y-a-t'il de produits avec des acteurs prénomés _'JOHNNY'_ ?\n",
    "\n",
    "* De combien d'états viennent les utilisateurs ?\n",
    "\n",
    "* Donnez le revenu moyen des clients\n",
    "\n",
    "* Comptez combien de clients ont entre _65_ et _75_ ans\n",
    "\n",
    "* Y-a-t'il des clients qui n'ont pas renseigné leur sexe ?\n",
    "\n",
    "* Donnez le nombre de commandes par pays, trié par nombre de commandes\n",
    "\n",
    "* Créer la table 'a_customers' vide en exécutant le code suivant : \n",
    "\n",
    "  __create table a_customers as (select * from customers) with no data;__\n",
    "\n",
    "* Insérer dans la table 'a_customers' les utilisateurs habitant dans des états commençant par la lettre 'A'\n",
    "\n",
    "* Réforme administrative, tous les ZIP code de l'Alabama ont la même valeur 99999.\n",
    "\n",
    "* Cadeau de __MasterCard__, les utilisateurs ayant une carte de crédit de type 3 touchent 100 de plus.\n",
    "\n",
    "* Supprimez de la table les clients de l'arizona\n",
    "\n",
    "* Videz la table par une des 2 méthodes vues en cours.\n",
    "\n",
    "* Re remplissez la table avec les même données et videz-la avec l'autre méthode, comparez les temps d'exécution.\n"
   ]
  }
 ],
 "metadata": {
  "kernelspec": {
   "display_name": "Python 3",
   "language": "python",
   "name": "python3"
  },
  "language_info": {
   "codemirror_mode": {
    "name": "ipython",
    "version": 3
   },
   "file_extension": ".py",
   "mimetype": "text/x-python",
   "name": "python",
   "nbconvert_exporter": "python",
   "pygments_lexer": "ipython3",
   "version": "3.7.0"
  }
 },
 "nbformat": 4,
 "nbformat_minor": 2
}
