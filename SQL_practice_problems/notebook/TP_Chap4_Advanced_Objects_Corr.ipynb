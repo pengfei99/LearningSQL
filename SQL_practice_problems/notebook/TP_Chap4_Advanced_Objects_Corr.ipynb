{
 "cells": [
  {
   "cell_type": "markdown",
   "metadata": {},
   "source": [
    "# ADVANCED OBJECTS"
   ]
  },
  {
   "cell_type": "markdown",
   "metadata": {},
   "source": [
    "First connect to the database 'DS2':"
   ]
  },
  {
   "cell_type": "code",
   "execution_count": null,
   "metadata": {},
   "outputs": [],
   "source": [
    "-- connection: host='localhost' dbname='ds2' user='ds2' "
   ]
  },
  {
   "cell_type": "markdown",
   "metadata": {},
   "source": [
    "------------------------------------------------------------------------------------------------------------"
   ]
  },
  {
   "cell_type": "markdown",
   "metadata": {},
   "source": [
    "# VIEW"
   ]
  },
  {
   "cell_type": "markdown",
   "metadata": {},
   "source": [
    "Create a view 'view_custSafe' not displaying credit card and gender information of customers:"
   ]
  },
  {
   "cell_type": "code",
   "execution_count": null,
   "metadata": {},
   "outputs": [],
   "source": [
    "drop view if exists view_custSafe;\n",
    "CREATE VIEW view_custSafe as \n",
    "SELECT customerid, firstname, lastname, address1, address2, city, state, zip, country, region, email, phone, username, password, age, income\n",
    "FROM customers;"
   ]
  },
  {
   "cell_type": "markdown",
   "metadata": {},
   "source": [
    "Retreive data from customer no 5432 trough this view"
   ]
  },
  {
   "cell_type": "code",
   "execution_count": null,
   "metadata": {},
   "outputs": [],
   "source": [
    "select * from view_custsafe where customerid=5432;"
   ]
  },
  {
   "cell_type": "markdown",
   "metadata": {},
   "source": [
    "Create the materialized view 'view_custSafe_mtz' with same properties and with data:"
   ]
  },
  {
   "cell_type": "code",
   "execution_count": null,
   "metadata": {},
   "outputs": [],
   "source": [
    "drop view if exists view_custSafe_mtz;\n",
    "CREATE MATERIALIZED VIEW view_custSafe_mtz as \n",
    "SELECT customerid, firstname, lastname, address1, address2, city, state, zip, country, region, email, phone, username, password, age, income\n",
    "FROM customers \n",
    "WITH DATA;"
   ]
  },
  {
   "cell_type": "markdown",
   "metadata": {},
   "source": [
    "Retreive data from customer no 5432 trough this view"
   ]
  },
  {
   "cell_type": "code",
   "execution_count": null,
   "metadata": {},
   "outputs": [],
   "source": [
    "select * from view_custsafe_mtz where customerid=5432;"
   ]
  },
  {
   "cell_type": "markdown",
   "metadata": {},
   "source": [
    "Delete the line of customer no 5432 in table 'customers':"
   ]
  },
  {
   "cell_type": "code",
   "execution_count": null,
   "metadata": {},
   "outputs": [],
   "source": [
    "delete from customers where customerid=5432;"
   ]
  },
  {
   "cell_type": "markdown",
   "metadata": {},
   "source": [
    "rerun above 'select' transactions  on both views:"
   ]
  },
  {
   "cell_type": "code",
   "execution_count": null,
   "metadata": {},
   "outputs": [],
   "source": [
    "select * from view_custsafe where customerid=5432;\n",
    "select * from view_custsafe_mtz where customerid=5432;\n"
   ]
  },
  {
   "cell_type": "markdown",
   "metadata": {},
   "source": [
    "Why ? Type the command to fix these:"
   ]
  },
  {
   "cell_type": "code",
   "execution_count": null,
   "metadata": {},
   "outputs": [],
   "source": [
    "REFRESH MATERIALIZED VIEW view_custsafe_mtz;\n"
   ]
  },
  {
   "cell_type": "markdown",
   "metadata": {},
   "source": [
    "Create a view 'view_custOrdersItem' displaying all items attached to the customerid 11769 ?\n",
    "Note that the view should contain following informations : customerid,firstname,lastname,orderid,totalamount,prodid,quantity "
   ]
  },
  {
   "cell_type": "code",
   "execution_count": null,
   "metadata": {},
   "outputs": [],
   "source": [
    "drop view if exists view_custOrdersItem;\n",
    "create view view_custOrdersItem as select c.customerid,firstname,lastname,o.orderid,totalamount,prod_id,quantity from customers c\n",
    "inner join orders o on (o.customerid=c.customerid)\n",
    "inner join orderlines ol on (o.orderid = ol.orderid) where c.customerid=11769; "
   ]
  },
  {
   "cell_type": "markdown",
   "metadata": {},
   "source": [
    "Your manager would like to have same informations as view_custOrdersItem but with the name of products (products.title).\n",
    "How would you proceed ?"
   ]
  },
  {
   "cell_type": "code",
   "execution_count": null,
   "metadata": {},
   "outputs": [],
   "source": [
    "drop view if exists view_custOrdersItemProduct;\n",
    "select title, vCOI.* from view_custOrdersItem vCOI\n",
    "inner join products p on (p.prod_id=vCOI.prod_id);"
   ]
  },
  {
   "cell_type": "markdown",
   "metadata": {},
   "source": [
    "------------------------------------------------------------------------------------------------------------"
   ]
  },
  {
   "cell_type": "markdown",
   "metadata": {},
   "source": [
    "# INDEX"
   ]
  },
  {
   "cell_type": "markdown",
   "metadata": {},
   "source": [
    "__You can prefix your statement with keywords '_EXPLAIN ANALYZE_' to display execution stats'__"
   ]
  },
  {
   "cell_type": "markdown",
   "metadata": {},
   "source": [
    "Create the following table and measure the time:"
   ]
  },
  {
   "cell_type": "code",
   "execution_count": null,
   "metadata": {},
   "outputs": [],
   "source": [
    "SET max_parallel_workers_per_gather TO 0;\n",
    "DROP TABLE IF EXISTS test;\n",
    "CREATE TABLE test (i integer not null, t text);\n",
    "EXPLAIN ANALYZE INSERT INTO test SELECT i, md5(i::text) FROM generate_series(1, 10000000) i;\n"
   ]
  },
  {
   "cell_type": "markdown",
   "metadata": {},
   "source": [
    "Run a 'select' query to retrieve line with i=990 000"
   ]
  },
  {
   "cell_type": "code",
   "execution_count": null,
   "metadata": {},
   "outputs": [],
   "source": [
    "EXPLAIN ANALYZE SELECT * FROM test WHERE i = 990000;"
   ]
  },
  {
   "cell_type": "markdown",
   "metadata": {},
   "source": [
    "How much time your query takes ?\n",
    "How can you improve it ?"
   ]
  },
  {
   "cell_type": "code",
   "execution_count": null,
   "metadata": {},
   "outputs": [],
   "source": [
    "create index on test(i);"
   ]
  },
  {
   "cell_type": "code",
   "execution_count": null,
   "metadata": {},
   "outputs": [],
   "source": [
    "EXPLAIN ANALYZE SELECT * FROM test WHERE i = 990000;"
   ]
  },
  {
   "cell_type": "markdown",
   "metadata": {},
   "source": [
    "How much time your query takes ?"
   ]
  },
  {
   "cell_type": "markdown",
   "metadata": {},
   "source": [
    "Now we need to purge data, how we can do it ?"
   ]
  },
  {
   "cell_type": "code",
   "execution_count": null,
   "metadata": {},
   "outputs": [],
   "source": [
    "truncate table test;"
   ]
  },
  {
   "cell_type": "markdown",
   "metadata": {},
   "source": [
    "Try to reload data and measure time  :"
   ]
  },
  {
   "cell_type": "code",
   "execution_count": null,
   "metadata": {},
   "outputs": [],
   "source": [
    "EXPLAIN ANALYZE INSERT INTO test SELECT i, md5(i::text) FROM generate_series(1, 10000000) i;"
   ]
  },
  {
   "cell_type": "markdown",
   "metadata": {},
   "source": [
    "Compare the time with and without index, what do you notice ?\n"
   ]
  },
  {
   "cell_type": "markdown",
   "metadata": {},
   "source": [
    "------------------------------------------------------------------------------------------------------------"
   ]
  },
  {
   "cell_type": "markdown",
   "metadata": {},
   "source": [
    "# TRIGGER"
   ]
  },
  {
   "cell_type": "markdown",
   "metadata": {},
   "source": [
    "In this exercice, we will write a trigger which will catch all deletes / updates done on the product table and trace these operations into the table products_audit.<br/>\n",
    "\n",
    "Firstly, create a table 'product_audit' recording all modifications on the products table :"
   ]
  },
  {
   "cell_type": "code",
   "execution_count": null,
   "metadata": {},
   "outputs": [],
   "source": [
    "DROP TABLE IF EXISTS products_audit;\n",
    "CREATE TABLE products_audit\n",
    "(\n",
    "    operation         varchar(20)   NOT NULL,\n",
    "    stamp             timestamp NOT NULL,\n",
    "    userid            text      NOT NULL,\n",
    "    prod_id serial NOT NULL,\n",
    "    category smallint NOT NULL,\n",
    "    title text NOT NULL,\n",
    "    actor text NOT NULL,\n",
    "    price numeric NOT NULL,\n",
    "    special smallint,\n",
    "    common_prod_id integer NOT NULL\n",
    ")"
   ]
  },
  {
   "cell_type": "markdown",
   "metadata": {},
   "source": [
    "Use the following function nammed 'f_products_audit' to insert data into the products_audit table. <br/>\n",
    "Note that you can use :\n",
    "* the now() function to get the current date\n",
    "* the system variable TG_OP to determine the operation type (DELETE/UPDATE) and OLD to make reference to old values.\n",
    "* user to get the connected username"
   ]
  },
  {
   "cell_type": "code",
   "execution_count": null,
   "metadata": {},
   "outputs": [],
   "source": [
    "DROP TRIGGER IF EXISTS tr_products_audit on products;\n",
    "DROP FUNCTION IF EXISTS f_products_audit();\n",
    "CREATE OR REPLACE FUNCTION f_products_audit() RETURNS TRIGGER\n",
    "AS $BODY$\n",
    "    BEGIN\n",
    "    -- Business logic \n",
    "    -- After each update/ delete \n",
    "    INSERT INTO products_audit SELECT TG_OP, now(), user, OLD.*;  -- solution\n",
    "    RETURN NULL;\n",
    "    END;\n",
    "$BODY$\n",
    "LANGUAGE 'plpgsql' ;"
   ]
  },
  {
   "cell_type": "markdown",
   "metadata": {},
   "source": [
    "Now, create a trigger calling the f_products_audit function after each modification :"
   ]
  },
  {
   "cell_type": "code",
   "execution_count": null,
   "metadata": {},
   "outputs": [],
   "source": [
    "DROP TRIGGER IF EXISTS tr_products_audit on products;\n",
    "CREATE TRIGGER tr_products_audit\n",
    "BEFORE INSERT OR UPDATE OR DELETE ON products\n",
    "    FOR EACH ROW EXECUTE FUNCTION f_products_audit();"
   ]
  },
  {
   "cell_type": "markdown",
   "metadata": {},
   "source": [
    "Check your trigger by updating the price of a product :"
   ]
  },
  {
   "cell_type": "code",
   "execution_count": null,
   "metadata": {},
   "outputs": [],
   "source": [
    "update products set price= price * 1.2 where title ='ACADEMY BEAR';"
   ]
  },
  {
   "cell_type": "markdown",
   "metadata": {},
   "source": [
    "Do you see old values in your products_audit table :"
   ]
  },
  {
   "cell_type": "code",
   "execution_count": null,
   "metadata": {},
   "outputs": [],
   "source": [
    "select * from products_audit;"
   ]
  },
  {
   "cell_type": "markdown",
   "metadata": {},
   "source": [
    "Check your trigger by deleting a product :"
   ]
  },
  {
   "cell_type": "code",
   "execution_count": null,
   "metadata": {},
   "outputs": [],
   "source": [
    "delete from products where prod_id=1970;"
   ]
  },
  {
   "cell_type": "markdown",
   "metadata": {},
   "source": [
    "Do you see the deleted row :"
   ]
  },
  {
   "cell_type": "code",
   "execution_count": null,
   "metadata": {},
   "outputs": [],
   "source": [
    "select * from products_audit;"
   ]
  },
  {
   "cell_type": "markdown",
   "metadata": {},
   "source": [
    "------------------------------------------------------------------------------------------------------------"
   ]
  },
  {
   "cell_type": "markdown",
   "metadata": {},
   "source": [
    "# Prepared Statements"
   ]
  },
  {
   "cell_type": "markdown",
   "metadata": {},
   "source": [
    "We want to know : \"what is the number of DVD and the average price for a given category.\" For instance, the store has 3211 DVD referenced as 'comedy' for an average price of 20.02 \\$."
   ]
  },
  {
   "cell_type": "code",
   "execution_count": null,
   "metadata": {},
   "outputs": [],
   "source": [
    "SELECT categoryname, count(prod_id), avg(price)\n",
    "FROM categories,products\n",
    "WHERE categories.category=products.category AND categoryname='Comedy'\n",
    "GROUP BY categoryname;"
   ]
  },
  {
   "cell_type": "markdown",
   "metadata": {},
   "source": [
    "Transform this query in a prepare statement with the category name as a parameter:"
   ]
  },
  {
   "cell_type": "code",
   "execution_count": null,
   "metadata": {},
   "outputs": [],
   "source": [
    "PREPARE infoPerCategory(text) AS\n",
    "SELECT categoryname, count(prod_id), avg(price)\n",
    "FROM categories,products\n",
    "WHERE categories.category=products.category AND categoryname=$1\n",
    "GROUP BY categoryname;"
   ]
  },
  {
   "cell_type": "markdown",
   "metadata": {},
   "source": [
    "Execute the prepare statement for categories 'Sci-Fi' and 'Family':"
   ]
  },
  {
   "cell_type": "code",
   "execution_count": null,
   "metadata": {},
   "outputs": [],
   "source": [
    "EXECUTE infoPerCategory('Sci-Fi');"
   ]
  },
  {
   "cell_type": "code",
   "execution_count": null,
   "metadata": {},
   "outputs": [],
   "source": [
    "EXECUTE infoPerCategory('Family');"
   ]
  },
  {
   "cell_type": "markdown",
   "metadata": {},
   "source": [
    "Clean it up:"
   ]
  },
  {
   "cell_type": "code",
   "execution_count": null,
   "metadata": {},
   "outputs": [],
   "source": [
    "DEALLOCATE ALL"
   ]
  },
  {
   "cell_type": "markdown",
   "metadata": {},
   "source": [
    "------------------------------------------------------------------------------------------------------------"
   ]
  },
  {
   "cell_type": "markdown",
   "metadata": {},
   "source": [
    "# Partitioning"
   ]
  },
  {
   "cell_type": "markdown",
   "metadata": {},
   "source": [
    "We have increased the number of order and according to the trend we foresee a number of orders close to 1 000 000."
   ]
  },
  {
   "cell_type": "markdown",
   "metadata": {},
   "source": [
    "Since the main use of table 'orders_management'  is to prepare online reports for management, we found out that most queries will just access the last week's, month's or quarter's data <br/>\n",
    "Which kind of partitioning, would you recommand and on which column ?"
   ]
  },
  {
   "cell_type": "code",
   "execution_count": null,
   "metadata": {},
   "outputs": [],
   "source": [
    "DROP TABLE IF EXISTS orders_management;\n",
    "CREATE TABLE orders_management\n",
    "(\n",
    "  orderid serial NOT NULL,\n",
    "  orderdate date NOT NULL,\n",
    "  customerid integer,\n",
    "  netamount numeric NOT NULL,\n",
    "  tax numeric NOT NULL,\n",
    "  totalamount numeric NOT NULL\n",
    ") PARTITION BY RANGE (orderdate);\n"
   ]
  },
  {
   "cell_type": "code",
   "execution_count": null,
   "metadata": {},
   "outputs": [],
   "source": [
    "CREATE TABLE orders_management_y2009m01 PARTITION OF orders_management\n",
    "    FOR VALUES FROM ('2009-01-01') TO ('2009-02-01');\n",
    "CREATE TABLE orders_management_y2009m02 PARTITION OF orders_management\n",
    "    FOR VALUES FROM ('2009-02-01') TO ('2009-03-01');\n",
    "CREATE TABLE orders_management_y2009m03 PARTITION OF orders_management\n",
    "    FOR VALUES FROM ('2009-03-01') TO ('2009-04-01');\n",
    "CREATE TABLE orders_management_y2009m04 PARTITION OF orders_management\n",
    "    FOR VALUES FROM ('2009-04-01') TO ('2009-05-01');\n",
    "CREATE TABLE orders_management_y2009m05 PARTITION OF orders_management\n",
    "    FOR VALUES FROM ('2009-05-01') TO ('2009-06-01');\n",
    "CREATE TABLE orders_management_y2009m06 PARTITION OF orders_management\n",
    "    FOR VALUES FROM ('2009-06-01') TO ('2009-07-01');\n",
    "CREATE TABLE orders_management_y2009m07 PARTITION OF orders_management\n",
    "    FOR VALUES FROM ('2009-07-01') TO ('2009-08-01');\n",
    "CREATE TABLE orders_management_y2009m08 PARTITION OF orders_management\n",
    "    FOR VALUES FROM ('2009-08-01') TO ('2009-09-01');\n",
    "CREATE TABLE orders_management_y2009m09 PARTITION OF orders_management\n",
    "    FOR VALUES FROM ('2009-09-01') TO ('2009-10-01');\n",
    "CREATE TABLE orders_management_y2009m10 PARTITION OF orders_management\n",
    "    FOR VALUES FROM ('2009-10-01') TO ('2009-11-01');\n",
    "CREATE TABLE orders_management_y2009m11 PARTITION OF orders_management\n",
    "    FOR VALUES FROM ('2009-11-01') TO ('2009-12-01');\n",
    "CREATE TABLE orders_management_y2009m12 PARTITION OF orders_management\n",
    "    FOR VALUES FROM ('2009-12-01') TO ('2010-01-01');"
   ]
  },
  {
   "cell_type": "markdown",
   "metadata": {},
   "source": [
    "Are you ready to load data ? so let's go !"
   ]
  },
  {
   "cell_type": "code",
   "execution_count": null,
   "metadata": {},
   "outputs": [],
   "source": [
    "insert into orders_management select * from orders ;"
   ]
  },
  {
   "cell_type": "markdown",
   "metadata": {},
   "source": [
    "To make sure, we are using partitioning if we run a query impacting only one partition then the execution plan should indicate us which partition is involved.<br/>\n",
    "We can get this information with the command analyse which will be detailed in the optimization section."
   ]
  },
  {
   "cell_type": "code",
   "execution_count": null,
   "metadata": {},
   "outputs": [],
   "source": [
    "explain analyze  select count(*) from orders_management where orderdate < '2009-01-02';"
   ]
  },
  {
   "cell_type": "markdown",
   "metadata": {},
   "source": [
    "what you could suggest to get a better response time ?"
   ]
  },
  {
   "cell_type": "code",
   "execution_count": null,
   "metadata": {},
   "outputs": [],
   "source": [
    "create index orders_management_idx on orders_management(orderdate);"
   ]
  },
  {
   "cell_type": "code",
   "execution_count": null,
   "metadata": {},
   "outputs": [],
   "source": [
    "SELECT * from pg_indexes where  tablename='orders_management_y2009m09';"
   ]
  },
  {
   "cell_type": "code",
   "execution_count": null,
   "metadata": {},
   "outputs": [],
   "source": [
    "explain analyze  select count(*) from orders_management where orderdate < '2009-01-02';"
   ]
  },
  {
   "cell_type": "markdown",
   "metadata": {},
   "source": [
    "Is the response time better ?"
   ]
  },
  {
   "cell_type": "markdown",
   "metadata": {},
   "source": [
    "Now, it's time to make some cleanup. <br/>\n",
    "We wish to drop old data before june. How could you do that ?<br/>\n"
   ]
  },
  {
   "cell_type": "code",
   "execution_count": null,
   "metadata": {},
   "outputs": [],
   "source": [
    "ALTER TABLE IF EXISTS orders_management DETACH PARTITION orders_management_y2009m06;\n",
    "DROP TABLE orders_management_y2009m06;"
   ]
  },
  {
   "cell_type": "markdown",
   "metadata": {},
   "source": [
    "Is it slow ? <br/>\n",
    "If you should make clean up on a basic table like table 'orders', would it be simple to do it ? and why ? Try it:"
   ]
  },
  {
   "cell_type": "code",
   "execution_count": null,
   "metadata": {},
   "outputs": [],
   "source": [
    "DELETE FROM orders\n",
    "WHERE orderdate >= '2009-06-01' AND orderdate < '2009-07-01';"
   ]
  }
 ],
 "metadata": {
  "kernelspec": {
   "display_name": "PostgreSQL",
   "language": "sql",
   "name": "postgres"
  },
  "language_info": {
   "codemirror_mode": "sql",
   "file_extension": ".sql",
   "mimetype": "text/x-postgresql",
   "name": "PostgreSQL"
  }
 },
 "nbformat": 4,
 "nbformat_minor": 2
}
