{
 "cells": [
  {
   "cell_type": "markdown",
   "metadata": {},
   "source": [
    "## TP sur les DDL\n",
    "\n",
    "* Créez une table nommée __'lp_cust'__ avec les champs suivants :\n",
    "  - custId     identifiant unique ,\n",
    "  - firstName  chaîne de 50 caractères,\n",
    "  - lastName   chaîne de 50 caractères,\n",
    "  - userName   chaîne de 50 caractères,\n",
    "\n",
    "* Créer un type énuméré nommé __'lp_level'__ pouvant prendre les valeurs suivantes : 'gold', 'silver' ou 'bronze'.\n",
    "\n",
    "* Créez une table nommée __'loyalty_program'__ avec les champs suivants :\n",
    "  - custId     faisant référence à un identifiant d'utilisateur\n",
    "  - lpLevel    un 'lp_level\n",
    "  - start      un entier\n",
    " \n",
    "* Si vous ne les avez pas intégrées à la conception des tables, ajouter les contraintes :\n",
    "- pour identifier les users, les userNames doivent être uniques\n",
    "- les consommateur ne peuvent avoir qu'un niveau dans le programme de fidélité\n",
    "  la suppression d'un consommateur doit entrainer la suppression de son niveau dans le programme de fidélité\n",
    "\n",
    "* Passer la commande suivante pour insérer des données dans la table 'lp_cust' :\n",
    "\n",
    "INSERT INTO lp_cust VALUES \n",
    "(1, 'Fred'   ,'Flinstone' ,'freddo'      ),\n",
    "(2, 'John'   ,'Smith'     ,'jsmith'      ),\n",
    "(3, 'Homer'  ,'Simpson'   ,'homey'       ),\n",
    "(4, 'Homer'  ,'Brown'     ,'notsofamous' ),\n",
    "(5, 'Ozzy'   ,'Ozzbourn'  ,'sabbath'     ),\n",
    "(6, 'Homer'  ,'Gain'      ,'noplacelike' ),\n",
    "(7, 'Jack'   ,'Brown'     ,'bigjack'     ),\n",
    "(8, 'Morten' ,'Harket'    ,'aha'         ),\n",
    "(9, 'John'   ,'Smith'     ,'jsmith1'     );\n",
    "\n",
    "* Passer la commande suivante pour insérer des données dans la table 'loyalty_program' :\n",
    "\n",
    "INSERT INTO loyalty_program VALUES \n",
    "(1,         'gold'   ), \n",
    "(2,         'silver' ),\n",
    "(3,         'silver' ),\n",
    "(4,         'bronze' ),\n",
    "(5,         'bronze' ),\n",
    "(10,        'silver' ),\n",
    "(10,        'bronze' ),\n",
    "(11,        'gold'   );\n",
    "\n",
    "* Modifier la définition de la/des table(s) pour réaliser l'insertion.\n",
    "\n",
    "* Le programme de fidélité, change, il ne contient plus de 'star'.\n",
    "\n",
    "* Dans le modèle actuel du magasin de DVD, un client peut-il avoir plusieurs cartes de crédit ?\n",
    "\n",
    "* Créez une table nommée 'cc_info' avec les infos relatives aux cartes de crédit \n",
    "  - une ligne est liée à un utilisateur\n",
    "  - un utilisateur peut avoir plusieurs cartes de crédit\n",
    "\n",
    "* Déplacer les données correspondantes dans la nouvelle table\n",
    "\n",
    "* Renommez la table 'cc_info' en 'credit_cards'"
   ]
  },
  {
   "cell_type": "code",
   "execution_count": null,
   "metadata": {},
   "outputs": [],
   "source": []
  }
 ],
 "metadata": {
  "kernelspec": {
   "display_name": "Python 3",
   "language": "python",
   "name": "python3"
  },
  "language_info": {
   "codemirror_mode": {
    "name": "ipython",
    "version": 3
   },
   "file_extension": ".py",
   "mimetype": "text/x-python",
   "name": "python",
   "nbconvert_exporter": "python",
   "pygments_lexer": "ipython3",
   "version": "3.7.0"
  }
 },
 "nbformat": 4,
 "nbformat_minor": 2
}
