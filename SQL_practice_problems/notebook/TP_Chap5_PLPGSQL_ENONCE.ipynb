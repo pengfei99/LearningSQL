{
 "cells": [
  {
   "cell_type": "markdown",
   "metadata": {},
   "source": [
    "## <span style=\"color:blue\">PL/SQL </span> \n",
    "\n",
    "In this section, we introduce PL/pgSQL on postgreSQL. For Oracle developpers, the syntax is very similar.\n",
    "\n",
    "Before going on, make sure to etablish a connexion :"
   ]
  },
  {
   "cell_type": "code",
   "execution_count": 1,
   "metadata": {},
   "outputs": [],
   "source": [
    "-- connection: host='localhost' dbname='ds2' user='ds2' "
   ]
  },
  {
   "cell_type": "markdown",
   "metadata": {},
   "source": [
    "\n",
    " ## <span style=\"color:blue\">Let's start </span>\n",
    "\n",
    "A PL/SQL program consists of 4 sections :\n",
    "\n",
    "DECLARE (optional)\n",
    "Variable definition \n",
    "\n",
    "BEGIN (mandatory)\n",
    "Implements the business logic and needs to contain at least one declaration SQL or PL/SQL\n",
    "\n",
    "EXCEPTION (optional)\n",
    "Exception management \n",
    "\n",
    "END; ( mandatory ) \n",
    "\n",
    "\n",
    "\n",
    "\n",
    "\n"
   ]
  },
  {
   "cell_type": "markdown",
   "metadata": {},
   "source": [
    "## <span style=\"color:blue\">Enabling Output of a PL/SQL Block</span> "
   ]
  },
  {
   "cell_type": "markdown",
   "metadata": {},
   "source": [
    "To enable output in postgreSQL, execute the following command before running the PL/SQL block\n"
   ]
  },
  {
   "cell_type": "code",
   "execution_count": 2,
   "metadata": {},
   "outputs": [],
   "source": [
    "set client_min_messages = LOG;"
   ]
  },
  {
   "cell_type": "markdown",
   "metadata": {},
   "source": [
    "You can filter the trace level to DEBUG5, DEBUG4, DEBUG3, DEBUG2, DEBUG1, LOG, NOTICE, WARNING, ERROR, FATAL, and PANIC.\n",
    "\n",
    "Ready for your first procedure :"
   ]
  },
  {
   "cell_type": "code",
   "execution_count": null,
   "metadata": {},
   "outputs": [],
   "source": [
    "DO $$\n",
    "BEGIN\n",
    "raise log 'Hello';\n",
    "END;\n",
    "$$"
   ]
  },
  {
   "cell_type": "markdown",
   "metadata": {},
   "source": [
    "## <span style=\"color:blue\">Your first Program</span>"
   ]
  },
  {
   "cell_type": "markdown",
   "metadata": {},
   "source": [
    "PL/SQL is a language that may be used in some specific database objects : \n",
    "* Triggers\n",
    "* Stored procedures\n",
    "* Functions\n",
    "* Anonymous block\n",
    "\n",
    "In PL/SQL, you can run a PL/SQL code without creating a database object like a stored procedure or a trigger, it is what we call an Anonymous block. In postgres, to run an anonymous block you can do it with the DO command :\n"
   ]
  },
  {
   "cell_type": "code",
   "execution_count": null,
   "metadata": {},
   "outputs": [],
   "source": [
    "\n",
    "DO $$                      -- DO (mandatory) indicates to Postgres it's an anonymous block.\n",
    "<< label >>                -- you can define a label we will see the interest  later\n",
    "DECLARE                    -- Optional section for declaring variables\n",
    "BEGIN                     -- computing block (mandatory) : have to contain at least one instruction\n",
    "   Raise notice 'Hello';   -- Print Hello\n",
    "END                        -- computing block end (mandatory)\n",
    "$$    "
   ]
  },
  {
   "cell_type": "markdown",
   "metadata": {},
   "source": [
    "Note that the double dollar ($$) is a substitution of a single quote (‘).\n",
    "\n",
    "Bravo, you ran your first PL/SQL program.\n",
    "\n",
    "Here, we create the same program with via a function :"
   ]
  },
  {
   "cell_type": "code",
   "execution_count": 4,
   "metadata": {},
   "outputs": [],
   "source": [
    "DROP function if exists f_hello( text);\n",
    "\n",
    "CREATE or replace FUNCTION f_hello(v_myTxt text) RETURNS text \n",
    "AS $BODY$\n",
    "DECLARE\n",
    "  v_hello text ='Hello';\n",
    "BEGIN\n",
    "  RETURN v_hello||' '||v_myTxt;\n",
    "END\n",
    "$BODY$\n",
    "LANGUAGE plpgsql; \n"
   ]
  },
  {
   "cell_type": "markdown",
   "metadata": {},
   "source": [
    "Now, we can call our function :"
   ]
  },
  {
   "cell_type": "code",
   "execution_count": null,
   "metadata": {},
   "outputs": [],
   "source": [
    "select f_hello('Guy');"
   ]
  },
  {
   "cell_type": "markdown",
   "metadata": {},
   "source": [
    "We can do the same thing through a stored procedure :"
   ]
  },
  {
   "cell_type": "code",
   "execution_count": 3,
   "metadata": {},
   "outputs": [],
   "source": [
    "DROP procedure if exists p_hello( varchar(50));\n",
    "\n",
    "CREATE PROCEDURE p_hello(v_myTxt varchar(50)) \n",
    "LANGUAGE plpgsql \n",
    "AS $BODY$ \n",
    "DECLARE\n",
    "   v_hello text ='Hello';\n",
    "BEGIN\n",
    "   Raise notice '% : % ', v_hello, v_myTxt;\n",
    "END\n",
    "$BODY$;"
   ]
  },
  {
   "cell_type": "code",
   "execution_count": null,
   "metadata": {},
   "outputs": [],
   "source": [
    "call p_hello('Guy');\n"
   ]
  },
  {
   "cell_type": "markdown",
   "metadata": {},
   "source": [
    "# <span style=\"color:blue\">Scalar variables</span> "
   ]
  },
  {
   "cell_type": "markdown",
   "metadata": {},
   "source": [
    "If you are famillar with programming it's very similar, you declare the name, the datatype and evantually the default value."
   ]
  },
  {
   "cell_type": "raw",
   "metadata": {},
   "source": [
    "identifier [CONSTANT] datatype [NOT NULL] [:= | DEFAULT expr]; "
   ]
  },
  {
   "cell_type": "markdown",
   "metadata": {},
   "source": [
    "The datatype list supported in postgres is available here :\n",
    "https://www.postgresql.org/docs/11/datatype.html\n",
    "\n",
    "Here is a simple code displaying a variable :"
   ]
  },
  {
   "cell_type": "code",
   "execution_count": null,
   "metadata": {},
   "outputs": [],
   "source": [
    "DO $$                      \n",
    "DECLARE\n",
    "costype varchar(50) default 'Galaxy';\n",
    "BEGIN                     \n",
    "   Raise info 'var costype : %',costype; \n",
    "END  \n",
    "$$ \n",
    "LANGUAGE plpgsql;"
   ]
  },
  {
   "cell_type": "markdown",
   "metadata": {},
   "source": [
    "You can define the type of a variable from : \n",
    "* an existing colum  with the syntax %TYPE\n",
    "* an existing local variable "
   ]
  },
  {
   "cell_type": "code",
   "execution_count": null,
   "metadata": {},
   "outputs": [],
   "source": [
    "DO $$                      \n",
    "DECLARE\n",
    "v_myTitle products.title%TYPE;\n",
    "v_copyMyTitleType v_myTitle%TYPE;\n",
    "BEGIN  \n",
    "   v_myTitle := 'Coucou';\n",
    "   Raise info 'v_myTitle : %',v_myTitle; \n",
    "   v_copyMyTitleType := length(v_myTitle)::text; -- we need to cast data from int to text\n",
    "   Raise info 'v_copyMyIntType : %',v_copyMyTitleType; \n",
    "END  \n",
    "$$ \n",
    "LANGUAGE plpgsql;"
   ]
  },
  {
   "cell_type": "markdown",
   "metadata": {},
   "source": [
    "# <span style=\"color:blue\">Composite variables</span> "
   ]
  },
  {
   "cell_type": "markdown",
   "metadata": {},
   "source": [
    "Now, let's play with composite variables.<br/>\n",
    "When you need to collect a row with a set of attribute you can do it as follows :"
   ]
  },
  {
   "cell_type": "code",
   "execution_count": null,
   "metadata": {},
   "outputs": [],
   "source": [
    "DO $$                      \n",
    "DECLARE\n",
    "rt_myrow categories%ROWTYPE;  \n",
    "rec_myrow RECORD;  \n",
    "BEGIN                     \n",
    "   SELECT * into strict rt_myrow FROM categories order by category LIMIT 1 OFFSET 5 ; --STRICT raise an error if multi rows\n",
    "   Raise info 'Variable with ROW TYPE : Id category : % - Category Name : % ',rt_myrow.category,rt_myrow.categoryname;                                                                                                               \n",
    "   SELECT * into strict rec_myrow FROM categories order by category LIMIT 1 OFFSET 7 ; --STRICT raise an error if multi rows\n",
    "   Raise info 'Variable with RECORD : Id category : % - Category Name : % ',rec_myrow.category,rec_myrow.categoryname;                                                                                                               \n",
    "END                        \n",
    "$$\n"
   ]
  },
  {
   "cell_type": "code",
   "execution_count": null,
   "metadata": {},
   "outputs": [],
   "source": [
    "DO $$                      \n",
    "DECLARE  \n",
    "rec_myrow RECORD;\n",
    "BEGIN                     \n",
    "   SELECT * into strict rec_myrow FROM categories order by category LIMIT 1 OFFSET 5 ; --STRICT raise an error if multi rows\n",
    "   Raise info 'Variable with ROW TYPE : Id category : % - Category Name : % ',rec_myrow.category,rec_myrow.categoryname;                                                                                                               \n",
    "   SELECT * into strict rec_myrow FROM products order by prod_id LIMIT 1 OFFSET 7 ; --STRICT raise an error if multi rows\n",
    "   Raise info 'Variable with RECORD : Id product : % - Product Name : % ',rec_myrow.prod_id,rec_myrow.title;        \n",
    "END                        \n",
    "$$"
   ]
  },
  {
   "cell_type": "markdown",
   "metadata": {},
   "source": [
    "Are you ok with variables ?<br/>\n",
    "From the preceding example, could you write an anonymous block to display the 11th row of the category table and get back the result into a composite variable with your own type ?<br/>\n"
   ]
  },
  {
   "cell_type": "code",
   "execution_count": null,
   "metadata": {},
   "outputs": [],
   "source": []
  },
  {
   "cell_type": "markdown",
   "metadata": {},
   "source": [
    "Now you are ready to ready to developp in PL/SQL ;-)."
   ]
  },
  {
   "cell_type": "markdown",
   "metadata": {},
   "source": [
    " ### <span style=\"color:red\">EXERCISES </span>"
   ]
  },
  {
   "cell_type": "markdown",
   "metadata": {},
   "source": [
    " ### <span style=\"color:blue\">EX - 1 </span>\n",
    " \n",
    " Create an anonymous block computing the hypotenuse of a right-angled triangle where the opposite side measures 5.5 and the adjacent side measures 10.<br/>\n",
    "\n",
    "All mathematique operators are <a href=\"https://docs.postgresql.fr/11/functions-math.html\">here</a>"
   ]
  },
  {
   "cell_type": "code",
   "execution_count": null,
   "metadata": {},
   "outputs": [],
   "source": []
  },
  {
   "cell_type": "markdown",
   "metadata": {},
   "source": [
    " ### <span style=\"color:blue\">EX - 2 </span>\n",
    " \n",
    " Transform the anonymous block to a function \"hypo\" accepting 2 arguments a and b."
   ]
  },
  {
   "cell_type": "code",
   "execution_count": null,
   "metadata": {},
   "outputs": [],
   "source": []
  },
  {
   "cell_type": "code",
   "execution_count": null,
   "metadata": {},
   "outputs": [],
   "source": [
    "select f_hypo(3.5,56.4);"
   ]
  },
  {
   "cell_type": "markdown",
   "metadata": {},
   "source": [
    " ### <span style=\"color:blue\">EX - 3 </span>"
   ]
  },
  {
   "cell_type": "markdown",
   "metadata": {},
   "source": [
    "Guess the output of this anonymous procedure :"
   ]
  },
  {
   "cell_type": "code",
   "execution_count": null,
   "metadata": {},
   "outputs": [],
   "source": [
    "DO $$                      \n",
    "<< level1 >>\n",
    "DECLARE\n",
    "v_level otypedef.otype_descr%TYPE = 'level1';\n",
    "BEGIN \n",
    "   Raise info 'bloc1 -> level = %' ,v_level;  \n",
    "   << level2_1 >>\n",
    "   DECLARE\n",
    "   v_level otypedef.otype_descr%TYPE = 'level2_1';\n",
    "   BEGIN\n",
    "       Raise info 'bloc2_1 -> level = % ',v_level; \n",
    "       Raise info 'bloc2_1 -> level1.level = % ',level1.v_level; \n",
    "       << level3_1 >>\n",
    "       DECLARE\n",
    "       v_level otypedef.otype_descr%TYPE = 'level3_1_1';\n",
    "       BEGIN    \n",
    "           Raise info 'bloc3_1_1 -> level = % ',v_level; \n",
    "           Raise info 'bloc3_1_1 -> level1.level = % ',level1.v_level;     \n",
    "           Raise info 'bloc3_1_1 -> level2_1.level = % ',level2_1.v_level;  \n",
    "           raise exception 'test';\n",
    "        END level3_1;\n",
    "        EXCEPTION\n",
    "            WHEN others then\n",
    "            Raise info 'Erreur id  % ',SQLSTATE; \n",
    "            Raise info 'Erreur detected  % ',SQLERRM; \n",
    "   END level2_1;\n",
    "   << level2_2 >>\n",
    "   DECLARE\n",
    "   v_level otypedef.otype_descr%TYPE = 'level2_2';\n",
    "   BEGIN\n",
    "       Raise info 'bloc2_2 -> level = % ',v_level; \n",
    "       Raise info 'bloc2_2 -> level1.level = % ',level1.v_level; \n",
    "   END level2_2;\n",
    "END level1 ;                     \n",
    "$$ \n"
   ]
  },
  {
   "cell_type": "markdown",
   "metadata": {},
   "source": [
    "  ### <span style=\"color:blue\">EX - 4</span>"
   ]
  },
  {
   "cell_type": "markdown",
   "metadata": {},
   "source": [
    "In this exercice, you will create a course table as defined below :"
   ]
  },
  {
   "cell_type": "code",
   "execution_count": null,
   "metadata": {},
   "outputs": [],
   "source": [
    "drop table if exists courses;\n",
    "CREATE TABLE  courses\n",
    "(\n",
    "  idcourse character varying(10),\n",
    "  room character varying(100),\n",
    "  teacher character varying(50),\n",
    "  teacher_phone character varying(10)\n",
    ");\n",
    "insert into courses values ('CS101','Hall 20','George','0651482192');\n",
    "insert into courses values ('CS154','Auditorium 01','Atkins','0651927291');\n",
    "insert into courses values ('CS152','Hall 21','Atkins','0651927291');\n",
    "insert into courses values ('CS102','Hall 21','George','0651482192');"
   ]
  },
  {
   "cell_type": "markdown",
   "metadata": {},
   "source": [
    "This relation is not very well designed, could you transform it in the Boyce-Codd normal form ?<br/>\n",
    "Define and create all relations that will be used to store data in the new data model :"
   ]
  },
  {
   "cell_type": "code",
   "execution_count": null,
   "metadata": {},
   "outputs": [],
   "source": []
  },
  {
   "cell_type": "markdown",
   "metadata": {},
   "source": [
    "Now you are ready to migrate courses to your new design.\n",
    "\n",
    "Create a stored procedure that will handle data from the courses table and will translate to your new design schema.\n"
   ]
  },
  {
   "cell_type": "code",
   "execution_count": null,
   "metadata": {},
   "outputs": [],
   "source": []
  },
  {
   "cell_type": "code",
   "execution_count": null,
   "metadata": {},
   "outputs": [],
   "source": [
    "call courseMigration();"
   ]
  },
  {
   "cell_type": "markdown",
   "metadata": {},
   "source": [
    "Check all your data has migrated well"
   ]
  },
  {
   "cell_type": "code",
   "execution_count": null,
   "metadata": {},
   "outputs": [],
   "source": []
  },
  {
   "cell_type": "code",
   "execution_count": null,
   "metadata": {},
   "outputs": [],
   "source": []
  },
  {
   "cell_type": "code",
   "execution_count": null,
   "metadata": {},
   "outputs": [],
   "source": []
  },
  {
   "cell_type": "markdown",
   "metadata": {},
   "source": [
    " ### <span style=\"color:blue\">EX - 5 </span>"
   ]
  },
  {
   "cell_type": "markdown",
   "metadata": {},
   "source": [
    "Guess the output of this anonymous block :"
   ]
  },
  {
   "cell_type": "code",
   "execution_count": null,
   "metadata": {},
   "outputs": [],
   "source": [
    "DO $$\n",
    "DECLARE\n",
    "    cur_ref refcursor;\n",
    "    rec_row RECORD;\n",
    "BEGIN\n",
    "    OPEN cur_ref FOR SELECT * FROM categories  order by category;\n",
    "    FETCH FIRST FROM cur_ref into rec_row;\n",
    "    IF NOT FOUND THEN\n",
    "        raise info 'No data found';\n",
    "        raise exception 'No data found';\n",
    "    END IF;\n",
    "    FETCH cur_ref into rec_row;\n",
    "    raise info 'Cursor position %', rec_row.category;\n",
    "    MOVE NEXT FROM cur_ref;\n",
    "    FETCH cur_ref INTO rec_row;\n",
    "    raise info 'Cursor position %', rec_row.category;\n",
    "    FETCH cur_ref INTO rec_row;\n",
    "    raise info 'Cursor position %', rec_row.category;\n",
    "    MOVE FORWARD 2 FROM cur_ref;\n",
    "    FETCH cur_ref INTO rec_row;\n",
    "    raise info 'Cursor position %', rec_row.category;\n",
    "    \n",
    "    MOVE LAST FROM cur_ref;\n",
    "    FETCH cur_ref INTO rec_row;\n",
    "    IF NOT FOUND THEN\n",
    "        raise info 'Cursor out of result';\n",
    "        MOVE RELATIVE -2 from cur_ref;\n",
    "        FETCH cur_ref INTO rec_row;\n",
    "    END IF;\n",
    "    raise info 'Cursor position%', rec_row.category;\n",
    "    CLOSE cur_ref;\n",
    "END;\n",
    "$$ \n",
    ";\n"
   ]
  },
  {
   "cell_type": "markdown",
   "metadata": {},
   "source": [
    "### <span style=\"color:blue\">EX - 6 </span>\n",
    "Create a function f_getWay accepting a customerid and returning street name of a customer.<br/>\n",
    "Use the address1 column from the customers table.<br/>\n",
    "You may use the string function split_part to help you.<br/>\n",
    "\n",
    "All string functions are described <a href=\"https://www.postgresql.org/docs/current/functions-string.html\">here</a>\n",
    "\n",
    "\n",
    "\n",
    "\n"
   ]
  },
  {
   "cell_type": "code",
   "execution_count": null,
   "metadata": {},
   "outputs": [],
   "source": [
    "DROP function if exists f_getWay(integer);\n"
   ]
  },
  {
   "cell_type": "code",
   "execution_count": null,
   "metadata": {},
   "outputs": [],
   "source": [
    "select f_getWay(1);"
   ]
  },
  {
   "cell_type": "markdown",
   "metadata": {},
   "source": [
    " ### <span style=\"color:blue\">EX - 7 </span>\n",
    " Write a function \"f_hi\" taking one argument \"username\" and return either \"Good morning\" or \"Good afternoon\"   according to the current time (now).<br/>\n",
    "Help : you could use the function now() to get back the current time and to_char() to get the hour.\n",
    " \n"
   ]
  },
  {
   "cell_type": "code",
   "execution_count": null,
   "metadata": {},
   "outputs": [],
   "source": []
  },
  {
   "cell_type": "code",
   "execution_count": null,
   "metadata": {},
   "outputs": [],
   "source": [
    "select f_hi('Hugo');"
   ]
  },
  {
   "cell_type": "markdown",
   "metadata": {},
   "source": [
    "### <span style=\"color:blue\">EX - 8 </span>\n"
   ]
  },
  {
   "cell_type": "markdown",
   "metadata": {},
   "source": [
    "Create a function getExpensiveProduct that Reads the whole products table with a cursor and <br/>\n",
    "displays with 'raise info' all products names more expensive than the input argument v_maxprice.\n",
    "The function will return the number of products."
   ]
  },
  {
   "cell_type": "code",
   "execution_count": null,
   "metadata": {},
   "outputs": [],
   "source": []
  },
  {
   "cell_type": "code",
   "execution_count": null,
   "metadata": {},
   "outputs": [],
   "source": [
    "select getExpensiveProduct(29.9);"
   ]
  },
  {
   "cell_type": "markdown",
   "metadata": {},
   "source": [
    "### <span style=\"color:blue\">EX - 9 </span>\n",
    "Write a function \"f_inverse\" that inverses the input value and returns the result.<br/>\n",
    "Help  : use the WHILE control structure\n"
   ]
  },
  {
   "cell_type": "code",
   "execution_count": null,
   "metadata": {},
   "outputs": [],
   "source": []
  },
  {
   "cell_type": "code",
   "execution_count": null,
   "metadata": {},
   "outputs": [],
   "source": [
    "select f_inverse('toto');"
   ]
  },
  {
   "cell_type": "markdown",
   "metadata": {},
   "source": [
    "### <span style=\"color:blue\">EX - 10 </span>"
   ]
  },
  {
   "cell_type": "markdown",
   "metadata": {},
   "source": [
    "Write an anonymous block which counts in backwards from 10 to 0 by step 2"
   ]
  },
  {
   "cell_type": "code",
   "execution_count": null,
   "metadata": {},
   "outputs": [],
   "source": []
  },
  {
   "cell_type": "markdown",
   "metadata": {},
   "source": [
    "Write a function which deletes all rows from the test table lower than i and return the number of deleted rows :<br/>\n",
    "Help : try to do it with a parameterized cursor and delete rows from the cursor."
   ]
  },
  {
   "cell_type": "code",
   "execution_count": null,
   "metadata": {},
   "outputs": [],
   "source": []
  },
  {
   "cell_type": "markdown",
   "metadata": {},
   "source": [
    "Run your function with i = 5"
   ]
  },
  {
   "cell_type": "code",
   "execution_count": null,
   "metadata": {},
   "outputs": [],
   "source": []
  },
  {
   "cell_type": "markdown",
   "metadata": {},
   "source": [
    "Check your data is well cleaned up."
   ]
  },
  {
   "cell_type": "code",
   "execution_count": null,
   "metadata": {},
   "outputs": [],
   "source": [
    "select f_truncate('test');"
   ]
  },
  {
   "cell_type": "markdown",
   "metadata": {},
   "source": [
    "### <span style=\"color:blue\">EX - 11</span>"
   ]
  },
  {
   "cell_type": "markdown",
   "metadata": {},
   "source": [
    "Modify the following program in order to catch the exception and raise a warning message describing the error encountered."
   ]
  },
  {
   "cell_type": "code",
   "execution_count": null,
   "metadata": {},
   "outputs": [],
   "source": [
    "DO $$                      \n",
    "DECLARE\n",
    "myrow_rowtype categories%ROWTYPE;                                                         \n",
    "BEGIN                     \n",
    "   SELECT * FROM categories into strict myrow_rowtype ;\n",
    "   Raise info 'Id category : % - Category Name : % ',myrow_rowtype.category,myrow_rowtype.categoryname; \n",
    "-- Handle exceptions\n",
    "END                        \n",
    "$$"
   ]
  },
  {
   "cell_type": "markdown",
   "metadata": {},
   "source": [
    "Write a division function where inputs are 2 floats and return the  result of the division\n"
   ]
  },
  {
   "cell_type": "code",
   "execution_count": null,
   "metadata": {},
   "outputs": [],
   "source": []
  },
  {
   "cell_type": "code",
   "execution_count": null,
   "metadata": {},
   "outputs": [],
   "source": [
    "select division(6,7)"
   ]
  },
  {
   "cell_type": "markdown",
   "metadata": {},
   "source": [
    "What happens if you set up the second argument to 0"
   ]
  },
  {
   "cell_type": "code",
   "execution_count": null,
   "metadata": {},
   "outputs": [],
   "source": [
    "select division(6,0)"
   ]
  },
  {
   "cell_type": "markdown",
   "metadata": {},
   "source": [
    "Catch the exception and return the value Nan :"
   ]
  },
  {
   "cell_type": "code",
   "execution_count": null,
   "metadata": {},
   "outputs": [],
   "source": []
  },
  {
   "cell_type": "code",
   "execution_count": null,
   "metadata": {},
   "outputs": [],
   "source": [
    "select division(6,0)"
   ]
  },
  {
   "cell_type": "markdown",
   "metadata": {},
   "source": [
    "### <span style=\"color:blue\">EX - 12 </span>"
   ]
  },
  {
   "cell_type": "markdown",
   "metadata": {},
   "source": [
    "In this exercice, we will trace all modifications (delete, insert, update ) run on the products tables into an audit table products_audit.\n",
    "In the products_audit table, we will save all old values in product before modification.\n",
    "Help : you could use the following DDL to create the products_audit table.\n"
   ]
  },
  {
   "cell_type": "code",
   "execution_count": null,
   "metadata": {},
   "outputs": [],
   "source": [
    "CREATE TABLE products_audit\n",
    "(\n",
    "    operation         char(1)   NOT NULL,\n",
    "    stamp             timestamp NOT NULL,\n",
    "    userid            text      NOT NULL,\n",
    "    prod_id serial NOT NULL,\n",
    "    category smallint NOT NULL,\n",
    "    title text NOT NULL,\n",
    "    actor text NOT NULL,\n",
    "    price numeric NOT NULL,\n",
    "    special smallint,\n",
    "    common_prod_id integer NOT NULL\n",
    ")"
   ]
  },
  {
   "cell_type": "markdown",
   "metadata": {},
   "source": [
    "Create the \"f_products_audit\" function that will save all old values "
   ]
  },
  {
   "cell_type": "code",
   "execution_count": null,
   "metadata": {},
   "outputs": [],
   "source": []
  },
  {
   "cell_type": "markdown",
   "metadata": {},
   "source": [
    "Create a trigger \"tr_products_audit\" firing the  f_products_audit before commiting modifications."
   ]
  },
  {
   "cell_type": "code",
   "execution_count": null,
   "metadata": {},
   "outputs": [],
   "source": []
  },
  {
   "cell_type": "markdown",
   "metadata": {},
   "source": [
    "Try to update/ insert a new product :"
   ]
  },
  {
   "cell_type": "code",
   "execution_count": null,
   "metadata": {},
   "outputs": [],
   "source": [
    "select title,price from products where title ='ACADEMY BEAR';"
   ]
  },
  {
   "cell_type": "code",
   "execution_count": null,
   "metadata": {},
   "outputs": [],
   "source": [
    "\n",
    "update products set price= price * 1.2 where title ='ACADEMY BEAR';\n",
    "select title,price from products where title ='ACADEMY BEAR';"
   ]
  },
  {
   "cell_type": "markdown",
   "metadata": {},
   "source": [
    "Check your products_audit table :"
   ]
  },
  {
   "cell_type": "code",
   "execution_count": null,
   "metadata": {},
   "outputs": [],
   "source": [
    "select now(),* from products_audit;"
   ]
  },
  {
   "cell_type": "markdown",
   "metadata": {},
   "source": [
    "### <span style=\"color:blue\">EX - 13 </span>"
   ]
  },
  {
   "cell_type": "markdown",
   "metadata": {},
   "source": [
    "The manager wants to see all orders per customer.<br/>\n",
    "For this exercice, we will limit orders to the customer where customerid is 11769.<br/>\n",
    "Help: you will need to access to the customers and orders table.\n",
    "\n",
    "Create a view 'view_custOrders' displaying all orders attached to the customerid 11769 ?<br/>\n",
    "Note that the view should contain following informations : customerid, firstname, lastname, orderdate, tax, orderid \n"
   ]
  },
  {
   "cell_type": "code",
   "execution_count": null,
   "metadata": {},
   "outputs": [],
   "source": []
  },
  {
   "cell_type": "markdown",
   "metadata": {},
   "source": [
    "Check the content of the view "
   ]
  },
  {
   "cell_type": "code",
   "execution_count": null,
   "metadata": {},
   "outputs": [],
   "source": [
    "select * from view_custOrders;"
   ]
  },
  {
   "cell_type": "markdown",
   "metadata": {},
   "source": [
    "From the view_custOrders view, the manager must be able to delete and update the customer orders.\n",
    "\n",
    "Create a function update_custOrder_view that will allow  :\n",
    " * to delete any order\n",
    " * to update following fields : firstname, lastname, orderdate, tax\n"
   ]
  },
  {
   "cell_type": "code",
   "execution_count": null,
   "metadata": {},
   "outputs": [],
   "source": [
    "\n"
   ]
  },
  {
   "cell_type": "markdown",
   "metadata": {},
   "source": [
    "Create the trigger that will fire the update_custOrder_view function."
   ]
  },
  {
   "cell_type": "code",
   "execution_count": null,
   "metadata": {},
   "outputs": [],
   "source": []
  },
  {
   "cell_type": "markdown",
   "metadata": {},
   "source": [
    "Delete the order (21499)"
   ]
  },
  {
   "cell_type": "code",
   "execution_count": null,
   "metadata": {},
   "outputs": [],
   "source": [
    "delete from view_custOrders where orderid=21499;"
   ]
  },
  {
   "cell_type": "markdown",
   "metadata": {},
   "source": [
    "Check the order (21499) is no more available "
   ]
  },
  {
   "cell_type": "code",
   "execution_count": null,
   "metadata": {},
   "outputs": [],
   "source": [
    "select * from view_custOrders;"
   ]
  },
  {
   "cell_type": "markdown",
   "metadata": {},
   "source": [
    "Check the order is deleted from ordelines and orders tables :"
   ]
  },
  {
   "cell_type": "code",
   "execution_count": null,
   "metadata": {},
   "outputs": [],
   "source": [
    "select * from orderlines where orderid=21499;"
   ]
  },
  {
   "cell_type": "code",
   "execution_count": null,
   "metadata": {},
   "outputs": [],
   "source": [
    "select * from orders where orderid=21499;"
   ]
  },
  {
   "cell_type": "markdown",
   "metadata": {},
   "source": [
    "Now increase the tax to 20 for the order (37795)"
   ]
  },
  {
   "cell_type": "code",
   "execution_count": null,
   "metadata": {},
   "outputs": [],
   "source": [
    "update view_custOrders set tax=20 where orderid=25278;"
   ]
  },
  {
   "cell_type": "markdown",
   "metadata": {},
   "source": [
    "Check the view and tables are updated correctly"
   ]
  },
  {
   "cell_type": "code",
   "execution_count": null,
   "metadata": {},
   "outputs": [],
   "source": [
    "select * from view_custOrders where orderid=25278;"
   ]
  },
  {
   "cell_type": "code",
   "execution_count": null,
   "metadata": {},
   "outputs": [],
   "source": [
    "select * from orders where orderid=25278;"
   ]
  },
  {
   "cell_type": "markdown",
   "metadata": {},
   "source": [
    "### <span style=\"color:blue\">EX - 14 </span>"
   ]
  },
  {
   "cell_type": "markdown",
   "metadata": {},
   "source": [
    "Write a py_max function returning the maximum value between 2 arguments"
   ]
  },
  {
   "cell_type": "code",
   "execution_count": null,
   "metadata": {},
   "outputs": [],
   "source": []
  },
  {
   "cell_type": "code",
   "execution_count": null,
   "metadata": {},
   "outputs": [],
   "source": [
    "select pymax(2,4)"
   ]
  },
  {
   "cell_type": "code",
   "execution_count": null,
   "metadata": {},
   "outputs": [],
   "source": []
  }
 ],
 "metadata": {
  "kernelspec": {
   "display_name": "PostgreSQL",
   "language": "sql",
   "name": "postgres"
  },
  "language_info": {
   "codemirror_mode": "sql",
   "file_extension": ".sql",
   "mimetype": "text/x-postgresql",
   "name": "PostgreSQL"
  }
 },
 "nbformat": 4,
 "nbformat_minor": 2
}
