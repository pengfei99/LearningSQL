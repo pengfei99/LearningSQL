{
 "cells": [
  {
   "cell_type": "markdown",
   "metadata": {},
   "source": [
    "# DDL"
   ]
  },
  {
   "cell_type": "markdown",
   "metadata": {},
   "source": [
    "First connect to the database 'DS2':"
   ]
  },
  {
   "cell_type": "code",
   "execution_count": null,
   "metadata": {},
   "outputs": [],
   "source": [
    "-- connection: host='localhost' dbname='ds2' user='ds2' "
   ]
  },
  {
   "cell_type": "markdown",
   "metadata": {},
   "source": [
    "----------------------------------------------------------------------------"
   ]
  },
  {
   "cell_type": "markdown",
   "metadata": {},
   "source": [
    "## TP sur les DDL\n",
    "\n",
    "* Créez une table nommée __'lp_cust'__ avec les champs suivants :\n",
    "  - custId     identifiant unique ,\n",
    "  - firstName  chaîne de 50 caractères,\n",
    "  - lastName   chaîne de 50 caractères,\n",
    "  - userName   chaîne de 50 caractères,\n",
    "\n",
    "* Créer un type énuméré nommé __'lp_level'__ pouvant prendre les valeurs suivantes : 'gold', 'silver' ou 'bronze'.\n",
    "\n",
    "* Créez une table nommée __'loyalty_program'__ avec les champs suivants :\n",
    "  - custId     faisant référence à un identifiant d'utilisateur\n",
    "  - lpLevel    un 'lp_level\n",
    "  - star      un entier\n",
    " \n"
   ]
  },
  {
   "cell_type": "code",
   "execution_count": null,
   "metadata": {},
   "outputs": [],
   "source": [
    "CREATE TYPE lp_level AS ENUM ('gold', 'silver', 'bronze');\n",
    "\n",
    "CREATE TABLE lp_cust (\n",
    "custId     SERIAL NOT NULL,\n",
    "firstName  CHARACTER VARYING(50),\n",
    "lastName   CHARACTER VARYING(50),\n",
    "userName   CHARACTER VARYING(50),\n",
    "\n",
    ");\n",
    "\n",
    "CREATE TABLE loyalty_program (\n",
    "custId     INTEGER NOT NULL,\n",
    "lpLevel    lp_level,\n",
    "star       INTEGER\n",
    ");"
   ]
  },
  {
   "cell_type": "markdown",
   "metadata": {},
   "source": [
    "* Si vous ne les avez pas intégrées à la conception des tables, ajouter les contraintes :\n",
    "- pour identifier les users, les userNames doivent être uniques\n",
    "- les consommateur ne peuvent avoir qu'un niveau dans le programme de fidélité\n",
    "- la suppression d'un consommateur doit entrainer la suppression de son niveau dans le programme de fidélité"
   ]
  },
  {
   "cell_type": "code",
   "execution_count": null,
   "metadata": {},
   "outputs": [],
   "source": [
    "ALTER TABLE lp_cust \n",
    "ADD UNIQUE(userName);\n",
    "\n",
    "ALTER TABLE lp_cust\n",
    "ADD CONSTRAINT lp_cust_pkey PRIMARY KEY (custId);         -- Nécessaire pour la définition de la clé étrangère ci-dessous\n",
    "\n",
    "ALTER TABLE loyalty_program \n",
    "ADD CONSTRAINT fk_cust_hist_customerid FOREIGN KEY (custId) REFERENCES lp_cust(custId)\n",
    "ON UPDATE CASCADE ON DELETE CASCADE;"
   ]
  },
  {
   "cell_type": "markdown",
   "metadata": {},
   "source": [
    "* Lancez la commande suivante pour insérer des données dans la table 'lp_cust' :"
   ]
  },
  {
   "cell_type": "code",
   "execution_count": null,
   "metadata": {},
   "outputs": [],
   "source": [
    "INSERT INTO lp_cust VALUES \n",
    "(1, 'Fred'   ,'Flinstone' ,'freddo'      ),\n",
    "(2, 'John'   ,'Smith'     ,'jsmith'      ),\n",
    "(3, 'Homer'  ,'Simpson'   ,'homey'       ),\n",
    "(4, 'Homer'  ,'Brown'     ,'notsofamous' ),\n",
    "(5, 'Ozzy'   ,'Ozzbourn'  ,'sabbath'     ),\n",
    "(6, 'Homer'  ,'Gain'      ,'noplacelike' ),\n",
    "(7, 'Jack'   ,'Brown'     ,'bigjack'     ),\n",
    "(8, 'Morten' ,'Harket'    ,'aha'         ),\n",
    "(9, 'John'   ,'Smith'     ,'jsmith1'     );"
   ]
  },
  {
   "cell_type": "markdown",
   "metadata": {},
   "source": [
    "* Passez la commande suivante pour insérer des données dans la table 'loyalty_program' :"
   ]
  },
  {
   "cell_type": "code",
   "execution_count": null,
   "metadata": {},
   "outputs": [],
   "source": [
    "INSERT INTO loyalty_program VALUES \n",
    "(1,         'gold'   ), \n",
    "(2,         'silver' ),\n",
    "(3,         'silver' ),\n",
    "(4,         'bronze' ),\n",
    "(5,         'bronze' ),\n",
    "(10,        'silver' ),\n",
    "(10,        'bronze' ),\n",
    "(11,        'gold'   );"
   ]
  },
  {
   "cell_type": "markdown",
   "metadata": {},
   "source": [
    "* Modifiez la définition de la/des table(s) pour réaliser l'insertion."
   ]
  },
  {
   "cell_type": "code",
   "execution_count": null,
   "metadata": {},
   "outputs": [],
   "source": [
    "ALTER TABLE loyalty_program DROP CONSTRAINT IF EXISTS fk_cust_hist_customerid;"
   ]
  },
  {
   "cell_type": "code",
   "execution_count": null,
   "metadata": {},
   "outputs": [],
   "source": [
    "INSERT INTO loyalty_program VALUES \n",
    "(1,         'gold'   ), \n",
    "(2,         'silver' ),\n",
    "(3,         'silver' ),\n",
    "(4,         'bronze' ),\n",
    "(5,         'bronze' ),\n",
    "(10,        'silver' ),\n",
    "(10,        'bronze' ),\n",
    "(11,        'gold'   );"
   ]
  },
  {
   "cell_type": "markdown",
   "metadata": {},
   "source": [
    "* Le programme de fidélité, change, il ne contient plus de 'star'."
   ]
  },
  {
   "cell_type": "code",
   "execution_count": null,
   "metadata": {},
   "outputs": [],
   "source": [
    "ALTER TABLE loyalty_program DROP COLUMN star;"
   ]
  },
  {
   "cell_type": "markdown",
   "metadata": {},
   "source": [
    "* Dans le modèle actuel du magasin de DVD, un client peut-il avoir plusieurs cartes de crédit ?"
   ]
  },
  {
   "cell_type": "markdown",
   "metadata": {},
   "source": [
    "* Créez une table nommée 'cc_info' avec les infos relatives aux cartes de crédit \n",
    "  - une ligne est liée à un utilisateur\n",
    "  - un utilisateur peut avoir plusieurs cartes de crédit"
   ]
  },
  {
   "cell_type": "code",
   "execution_count": null,
   "metadata": {},
   "outputs": [],
   "source": [
    "DROP TABLE IF EXISTS cc_info;\n",
    "CREATE TABLE cc_info (\n",
    "cust_id INT,\n",
    "cc_type INT4,\n",
    "creditcard VARCHAR(50),\n",
    "cc_exp VARCHAR(50),\n",
    "CONSTRAINT fk_cc_info_customerid \n",
    "        FOREIGN KEY (cust_id) REFERENCES customers(customerid) \n",
    "        ON UPDATE CASCADE                                          -- suppression des moyens de paiement\n",
    "        ON DELETE CASCADE                                          -- si le client est supprimé\n",
    ")"
   ]
  },
  {
   "cell_type": "markdown",
   "metadata": {},
   "source": [
    "* __Déplacez__ les données correspondantes dans la nouvelle table"
   ]
  },
  {
   "cell_type": "code",
   "execution_count": null,
   "metadata": {},
   "outputs": [],
   "source": [
    "INSERT INTO cc_info (cust_id,cc_type,creditcard,cc_exp) \n",
    "SELECT customerid,creditcardtype,creditcard,creditcardexpiration\n",
    "FROM customers;\n",
    "\n",
    "ALTER TABLE customers\n",
    "DROP COLUMN creditcardtype,\n",
    "DROP COLUMN creditcard,\n",
    "DROP COLUMN creditcardexpiration;"
   ]
  },
  {
   "cell_type": "markdown",
   "metadata": {},
   "source": [
    "* Renommez la table 'cc_info' en 'credit_cards'"
   ]
  },
  {
   "cell_type": "code",
   "execution_count": null,
   "metadata": {},
   "outputs": [],
   "source": [
    "ALTER TABLE cc_info RENAME TO credit_cards;"
   ]
  }
 ],
 "metadata": {
  "kernelspec": {
   "display_name": "PostgreSQL",
   "language": "sql",
   "name": "postgres"
  },
  "language_info": {
   "codemirror_mode": "sql",
   "file_extension": ".sql",
   "mimetype": "text/x-postgresql",
   "name": "PostgreSQL"
  }
 },
 "nbformat": 4,
 "nbformat_minor": 2
}
