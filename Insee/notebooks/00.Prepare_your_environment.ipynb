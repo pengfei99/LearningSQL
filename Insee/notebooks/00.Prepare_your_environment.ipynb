{
 "cells": [
  {
   "cell_type": "markdown",
   "metadata": {
    "collapsed": true,
    "pycharm": {
     "name": "#%% md\n"
    }
   },
   "source": [
    "# Prepare your environment\n",
    "\n",
    "To follow the sql course, you need to have a database server which allow you to query data. In this chapter, we will show you how to create a database server (i.e. Postgresql) in datalab, and how to populate the database with some sample data.\n",
    "\n"
   ]
  },
  {
   "cell_type": "markdown",
   "source": [
    "## Step1: Launch a database(postgresql) server"
   ],
   "metadata": {
    "collapsed": false,
    "pycharm": {
     "name": "#%% md\n"
    }
   }
  },
  {
   "cell_type": "markdown",
   "source": [
    "## Step2: Populate the database server\n",
    "\n",
    "```yaml\n",
    "apiVersion: batch/v1\n",
    "kind: Job\n",
    "metadata:\n",
    "  name: populate-db\n",
    "  labels:\n",
    "    app: db-backup-restore\n",
    "spec:\n",
    "  template:\n",
    "    spec:\n",
    "      containers:\n",
    "        - name: populate-bot\n",
    "          image: liupengfei99/db_backup_restore:main\n",
    "          env:\n",
    "            - name: DB_LOGIN\n",
    "              value: \"changeMe\" # your database login, example: user-pengfei\n",
    "            - name: DB_PWD\n",
    "              value: \"changeMe\" # your database pwd, example: afde3434gfe3r\n",
    "            - name: DB_HOST\n",
    "              value: \"changeMe\" # your database server host name, example: 127.0.0.1\n",
    "            - name: DB_PORT\n",
    "              value: \"5432\"     # your database server port, example: 5432\n",
    "            - name: AWS_S3_ENDPOINT\n",
    "              value: \"changeMe\" # your s3 server endpoint, example: minio.lab.sspcloud.fr\n",
    "            - name: AWS_ACCESS_KEY_ID # your s3 server access key id\n",
    "              valueFrom:\n",
    "                secretKeyRef:\n",
    "                  name: my-s3-creds\n",
    "                  key: accessKey\n",
    "            - name: AWS_SECRET_ACCESS_KEY # your s3 server secret key\n",
    "              valueFrom:\n",
    "                secretKeyRef:\n",
    "                  name: my-s3-creds\n",
    "                  key: secretKey\n",
    "            # The token is optional based on your s3 creds type, you can leave it empty\n",
    "            - name: AWS_SESSION_TOKEN\n",
    "              value: \"\"    # your s3 server access token, example:\n",
    "            - name: BACKUP_FILE\n",
    "              value: \"changeMe\" # the full path of your backup file, example: s3://path/to/sql_backup/2022-01-12_test_pg_bck.sql\n",
    "            - name: TARGET_DB\n",
    "              value: \"changeMe\" # the database name that you want to restore, example: north_wind\n",
    "          command: [sh, -c]\n",
    "          args: [\"python dbsavior/main.py --db_type postgres --storage_type s3 --action populate --db_login $DB_LOGIN\n",
    "                --db_pwd $DB_PWD --db_host $DB_HOST --db_port $DB_PORT\n",
    "                --backup_file $BACKUP_FILE --target_db $TARGET_DB\"]\n",
    "      restartPolicy: Never\n",
    "  completions: 1\n",
    "\n",
    "  parallelism: 1\n",
    "  activeDeadlineSeconds: 100\n",
    "  ttlSecondsAfterFinished: 150\n",
    "  backoffLimit: 4\n",
    "  ```"
   ],
   "metadata": {
    "collapsed": false,
    "pycharm": {
     "name": "#%% md\n"
    }
   }
  }
 ],
 "metadata": {
  "kernelspec": {
   "display_name": "Python 3",
   "language": "python",
   "name": "python3"
  },
  "language_info": {
   "codemirror_mode": {
    "name": "ipython",
    "version": 2
   },
   "file_extension": ".py",
   "mimetype": "text/x-python",
   "name": "python",
   "nbconvert_exporter": "python",
   "pygments_lexer": "ipython2",
   "version": "2.7.6"
  }
 },
 "nbformat": 4,
 "nbformat_minor": 0
}