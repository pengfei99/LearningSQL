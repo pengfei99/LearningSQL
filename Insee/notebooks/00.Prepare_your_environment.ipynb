{
 "cells": [
  {
   "cell_type": "markdown",
   "metadata": {
    "pycharm": {
     "name": "#%% md\n"
    }
   },
   "source": [
    "# Prepare your environment\n",
    "\n",
    "To follow the sql course, you need to have a database server which allow you to query data. In this chapter, we will show you how to create a database server (i.e. Postgresql) in datalab, and how to populate the database with some sample data.\n",
    "\n"
   ]
  },
  {
   "cell_type": "markdown",
   "metadata": {
    "pycharm": {
     "name": "#%% md\n"
    }
   },
   "source": [
    "## Step1: Launch a database(postgresql) server"
   ]
  },
  {
   "cell_type": "markdown",
   "metadata": {
    "pycharm": {
     "name": "#%% md\n"
    },
    "tags": []
   },
   "source": [
    "## Step2: Populate the database server\n",
    "\n",
    "In step 1, we create a data base. But it's empty, as a result we need to populate the database with some sample data.\n",
    "\n",
    "Below script will populate the database server with a famous  \n",
    "\n",
    "\n"
   ]
  },
  {
   "cell_type": "code",
   "execution_count": 1,
   "metadata": {},
   "outputs": [
    {
     "name": "stdout",
     "output_type": "stream",
     "text": [
      "db_config.yaml\tjob_populate.yaml  s3_creds.yaml\n"
     ]
    }
   ],
   "source": [
    "import jinja2\n",
    "import os"
   ]
  },
  {
   "cell_type": "code",
   "execution_count": null,
   "outputs": [],
   "source": [
    "db_login = \"user-pengfei\"\n",
    "db_pwd = \"pwd\"\n",
    "db_host = \"postgresql-511542\""
   ],
   "metadata": {
    "collapsed": false,
    "pycharm": {
     "name": "#%%\n"
    }
   }
  },
  {
   "cell_type": "code",
   "execution_count": 2,
   "metadata": {},
   "outputs": [
    {
     "name": "stdout",
     "output_type": "stream",
     "text": [
      "configmap/dbsavior-job-init-configmap created\n",
      "job.batch/populate-db created\n",
      "secret/dbsavior-job-s3-secrets created\n"
     ]
    }
   ],
   "source": [
    "backup_file = \"s3a://projet-formation/diffusion/sda/06_SQL/north_wind.sql\"\n",
    "target_db = \"defaultdb\"\n",
    "\n",
    "s3_access_key = os.getenv(\"AWS_ACCESS_KEY_ID\")\n",
    "s3_secret_key = os.getenv(\"AWS_SECRET_ACCESS_KEY\")\n",
    "s3_token = os.getenv(\"AWS_SESSION_TOKEN\")\n",
    "\n",
    "\n",
    "def generate_job_template(template_file_path: str, output_file_path: str):\n",
    "    path, file_name = os.path.split(template_file_path)\n",
    "    context = {\n",
    "        \"db_login\": db_login,\n",
    "        \"db_pwd\": db_pwd,\n",
    "        \"db_host\": db_host,\n",
    "        \"backup_file\": backup_file,\n",
    "        \"target_db\": target_db,\n",
    "        # s3 config\n",
    "        \"s3_access_key\": s3_access_key,\n",
    "        \"s3_secret_key\": s3_secret_key,\n",
    "        \"s3_token\": s3_token,\n",
    "    }\n",
    "\n",
    "    job_content = jinja2.Environment(loader=jinja2.FileSystemLoader(path or \"./\")).get_template(file_name).render(\n",
    "        context)\n",
    "    f = open(output_file_path, \"w\")\n",
    "    f.write(job_content)\n",
    "    f.close()\n",
    "\n",
    "\n",
    "# if (s3_access_key is None) or (s3_secret_key is None) or (s3_token is None):\n",
    "#     print(\"Something is wrong, we can't get the correct credential to connect to minio\")\n",
    "#     sys.exit(1)\n",
    "\n",
    "\n",
    "job_template_path = \"../utils/template/populate_db.yaml.j2\"\n",
    "output_file_path = \"/tmp/populate_db.yaml\"\n",
    "generate_job_template(job_template_path, output_file_path)\n",
    "os.system(f\"kubectl apply -f {output_file_path}\")"
   ]
  },
  {
   "cell_type": "code",
   "execution_count": null,
   "metadata": {},
   "outputs": [],
   "source": []
  }
 ],
 "metadata": {
  "kernelspec": {
   "display_name": "Python 3 (ipykernel)",
   "language": "python",
   "name": "python3"
  },
  "language_info": {
   "codemirror_mode": {
    "name": "ipython",
    "version": 3
   },
   "file_extension": ".py",
   "mimetype": "text/x-python",
   "name": "python",
   "nbconvert_exporter": "python",
   "pygments_lexer": "ipython3",
   "version": "3.9.12"
  }
 },
 "nbformat": 4,
 "nbformat_minor": 4
}